{
 "cells": [
  {
   "cell_type": "markdown",
   "id": "bc6ba5bd-c333-4f1b-97f6-148bb06e3f05",
   "metadata": {},
   "source": [
    "# Correlación de Activos"
   ]
  },
  {
   "cell_type": "markdown",
   "id": "f3bf7959-d91a-4d84-ac14-ad725e4f7f19",
   "metadata": {},
   "source": [
    "##### Método de Pearson para calcular correlación de 2 activos"
   ]
  },
  {
   "cell_type": "code",
   "execution_count": 3,
   "id": "bc4c681e-3fc8-470f-9183-42823cd97b50",
   "metadata": {},
   "outputs": [],
   "source": [
    "# primero se importan las indispensables librerias para la obtención de data desde Yahoo! Finance\n",
    "import numpy as np\n",
    "import pandas as pd\n",
    "import datetime as dt\n",
    "from pandas_datareader import data as pdr\n",
    "import yfinance as yf\n",
    "yf.pdr_override()"
   ]
  },
  {
   "cell_type": "code",
   "execution_count": 42,
   "id": "55482bfe-94c8-462c-a8a8-34704f9ea4a0",
   "metadata": {},
   "outputs": [
    {
     "name": "stdout",
     "output_type": "stream",
     "text": [
      "[*********************100%***********************]  2 of 2 completed\n",
      "                            Adj Close                   Close              \\\n",
      "                                  SPY         TLT         SPY         TLT   \n",
      "Date                                                                        \n",
      "2003-02-18 00:00:00-05:00   58.341286   45.512699   85.629997   87.919998   \n",
      "2003-02-19 00:00:00-05:00   58.034718   45.823311   85.180000   88.519997   \n",
      "2003-02-20 00:00:00-05:00   57.455597   45.978600   84.330002   88.820000   \n",
      "2003-02-21 00:00:00-05:00   58.034718   45.709408   85.180000   88.300003   \n",
      "2003-02-24 00:00:00-05:00   57.094486   45.926846   83.800003   88.720001   \n",
      "...                               ...         ...         ...         ...   \n",
      "2023-02-13 00:00:00-05:00  412.829987  104.260002  412.829987  104.260002   \n",
      "2023-02-14 00:00:00-05:00  412.640015  104.019997  412.640015  104.019997   \n",
      "2023-02-15 00:00:00-05:00  413.980011  103.050003  413.980011  103.050003   \n",
      "2023-02-16 00:00:00-05:00  408.279999  101.589996  408.279999  101.589996   \n",
      "2023-02-17 00:00:00-05:00  407.260010  102.379997  407.260010  102.379997   \n",
      "\n",
      "                                 High                     Low              \\\n",
      "                                  SPY         TLT         SPY         TLT   \n",
      "Date                                                                        \n",
      "2003-02-18 00:00:00-05:00   85.800003   87.980003   84.389999   87.339996   \n",
      "2003-02-19 00:00:00-05:00   85.470001   88.699997   84.279999   88.250000   \n",
      "2003-02-20 00:00:00-05:00   85.419998   88.900002   84.050003   88.339996   \n",
      "2003-02-21 00:00:00-05:00   85.739998   88.720001   83.459999   88.209999   \n",
      "2003-02-24 00:00:00-05:00   85.000000   88.900002   83.589996   88.620003   \n",
      "...                               ...         ...         ...         ...   \n",
      "2023-02-13 00:00:00-05:00  412.970001  104.419998  408.239990  103.580002   \n",
      "2023-02-14 00:00:00-05:00  415.049988  104.830002  408.510010  103.139999   \n",
      "2023-02-15 00:00:00-05:00  414.059998  103.949997  409.470001  102.500000   \n",
      "2023-02-16 00:00:00-05:00  412.910004  102.220001  408.140015  101.330002   \n",
      "2023-02-17 00:00:00-05:00  407.510010  102.379997  404.049988  100.970001   \n",
      "\n",
      "                                 Open                Volume            \n",
      "                                  SPY         TLT       SPY       TLT  \n",
      "Date                                                                   \n",
      "2003-02-18 00:00:00-05:00   84.529999   87.559998  39492700    213200  \n",
      "2003-02-19 00:00:00-05:00   85.320000   88.389999  31432000     62100  \n",
      "2003-02-20 00:00:00-05:00   85.209999   88.339996  29280100    486700  \n",
      "2003-02-21 00:00:00-05:00   84.379997   88.559998  60955800    250400  \n",
      "2003-02-24 00:00:00-05:00   84.930000   88.879997  30628600    168200  \n",
      "...                               ...         ...       ...       ...  \n",
      "2023-02-13 00:00:00-05:00  408.720001  103.709999  64913500  13134300  \n",
      "2023-02-14 00:00:00-05:00  411.239990  104.199997  88389300  15440300  \n",
      "2023-02-15 00:00:00-05:00  410.350006  103.550003  61685300  15567600  \n",
      "2023-02-16 00:00:00-05:00  408.790009  102.070000  76431500  19267300  \n",
      "2023-02-17 00:00:00-05:00  406.059998  101.099998  89169100  19553800  \n",
      "\n",
      "[5037 rows x 12 columns]\n"
     ]
    }
   ],
   "source": [
    "# definimos el periodo de estudio\n",
    "start = dt.datetime(2003,2,18)\n",
    "end = dt.datetime(2023,2,18)\n",
    "\n",
    "# los activos a utilizar serán 2 ETFs, por un lado uno que replique al S&P500 y otro que represente los bonos a 20 años\n",
    "assets = ['TLT', 'SPY']\n",
    "df = pdr.get_data_yahoo(assets, start, end)\n",
    "print(df)"
   ]
  },
  {
   "cell_type": "code",
   "execution_count": 29,
   "id": "22a65232-52ec-4883-938c-55ee86d36e76",
   "metadata": {},
   "outputs": [
    {
     "data": {
      "text/html": [
       "<div>\n",
       "<style scoped>\n",
       "    .dataframe tbody tr th:only-of-type {\n",
       "        vertical-align: middle;\n",
       "    }\n",
       "\n",
       "    .dataframe tbody tr th {\n",
       "        vertical-align: top;\n",
       "    }\n",
       "\n",
       "    .dataframe thead th {\n",
       "        text-align: right;\n",
       "    }\n",
       "</style>\n",
       "<table border=\"1\" class=\"dataframe\">\n",
       "  <thead>\n",
       "    <tr style=\"text-align: right;\">\n",
       "      <th></th>\n",
       "      <th>SPY</th>\n",
       "      <th>TLT</th>\n",
       "    </tr>\n",
       "    <tr>\n",
       "      <th>Date</th>\n",
       "      <th></th>\n",
       "      <th></th>\n",
       "    </tr>\n",
       "  </thead>\n",
       "  <tbody>\n",
       "    <tr>\n",
       "      <th>2003-02-18 00:00:00-05:00</th>\n",
       "      <td>NaN</td>\n",
       "      <td>NaN</td>\n",
       "    </tr>\n",
       "    <tr>\n",
       "      <th>2003-02-19 00:00:00-05:00</th>\n",
       "      <td>-0.005269</td>\n",
       "      <td>0.006801</td>\n",
       "    </tr>\n",
       "    <tr>\n",
       "      <th>2003-02-20 00:00:00-05:00</th>\n",
       "      <td>-0.010029</td>\n",
       "      <td>0.003383</td>\n",
       "    </tr>\n",
       "    <tr>\n",
       "      <th>2003-02-21 00:00:00-05:00</th>\n",
       "      <td>0.010029</td>\n",
       "      <td>-0.005871</td>\n",
       "    </tr>\n",
       "    <tr>\n",
       "      <th>2003-02-24 00:00:00-05:00</th>\n",
       "      <td>-0.016334</td>\n",
       "      <td>0.004746</td>\n",
       "    </tr>\n",
       "  </tbody>\n",
       "</table>\n",
       "</div>"
      ],
      "text/plain": [
       "                                SPY       TLT\n",
       "Date                                         \n",
       "2003-02-18 00:00:00-05:00       NaN       NaN\n",
       "2003-02-19 00:00:00-05:00 -0.005269  0.006801\n",
       "2003-02-20 00:00:00-05:00 -0.010029  0.003383\n",
       "2003-02-21 00:00:00-05:00  0.010029 -0.005871\n",
       "2003-02-24 00:00:00-05:00 -0.016334  0.004746"
      ]
     },
     "execution_count": 29,
     "metadata": {},
     "output_type": "execute_result"
    }
   ],
   "source": [
    "# calculamos el retorno logarítmico (una forma de calcular la variación porcentual tradicional)\n",
    "adj_close = df['Adj Close']\n",
    "log_returns = np.log(adj_close / adj_close.shift())\n",
    "log_returns.head()"
   ]
  },
  {
   "cell_type": "markdown",
   "id": "05837765-bc7b-412c-869d-cabc0552024c",
   "metadata": {},
   "source": [
    "## Correlation matrix"
   ]
  },
  {
   "cell_type": "code",
   "execution_count": 30,
   "id": "b33fa3be-bf0b-43a9-8d75-32bd7e913626",
   "metadata": {},
   "outputs": [
    {
     "data": {
      "text/html": [
       "<div>\n",
       "<style scoped>\n",
       "    .dataframe tbody tr th:only-of-type {\n",
       "        vertical-align: middle;\n",
       "    }\n",
       "\n",
       "    .dataframe tbody tr th {\n",
       "        vertical-align: top;\n",
       "    }\n",
       "\n",
       "    .dataframe thead th {\n",
       "        text-align: right;\n",
       "    }\n",
       "</style>\n",
       "<table border=\"1\" class=\"dataframe\">\n",
       "  <thead>\n",
       "    <tr style=\"text-align: right;\">\n",
       "      <th></th>\n",
       "      <th>SPY</th>\n",
       "      <th>TLT</th>\n",
       "    </tr>\n",
       "  </thead>\n",
       "  <tbody>\n",
       "    <tr>\n",
       "      <th>SPY</th>\n",
       "      <td>1.000000</td>\n",
       "      <td>-0.348214</td>\n",
       "    </tr>\n",
       "    <tr>\n",
       "      <th>TLT</th>\n",
       "      <td>-0.348214</td>\n",
       "      <td>1.000000</td>\n",
       "    </tr>\n",
       "  </tbody>\n",
       "</table>\n",
       "</div>"
      ],
      "text/plain": [
       "          SPY       TLT\n",
       "SPY  1.000000 -0.348214\n",
       "TLT -0.348214  1.000000"
      ]
     },
     "execution_count": 30,
     "metadata": {},
     "output_type": "execute_result"
    }
   ],
   "source": [
    "log_returns.corr()"
   ]
  },
  {
   "cell_type": "markdown",
   "id": "107f235b-dbb2-4e8a-889b-0ce979442bf3",
   "metadata": {},
   "source": [
    "##### Y ahí lo tienen, 2 activos sin correlación alguna."
   ]
  },
  {
   "cell_type": "markdown",
   "id": "51ed541c-eed8-4fda-94bc-07127a58b4d9",
   "metadata": {},
   "source": [
    "## Rolling correlation"
   ]
  },
  {
   "cell_type": "code",
   "execution_count": 38,
   "id": "e7c7a303-e9d4-4466-9b50-d227d7884a79",
   "metadata": {},
   "outputs": [
    {
     "data": {
      "text/plain": [
       "Date\n",
       "2023-02-06 00:00:00-05:00    0.266581\n",
       "2023-02-07 00:00:00-05:00    0.281358\n",
       "2023-02-08 00:00:00-05:00    0.287519\n",
       "2023-02-09 00:00:00-05:00    0.292676\n",
       "2023-02-10 00:00:00-05:00    0.299385\n",
       "2023-02-13 00:00:00-05:00    0.160065\n",
       "2023-02-14 00:00:00-05:00    0.166243\n",
       "2023-02-15 00:00:00-05:00    0.159657\n",
       "2023-02-16 00:00:00-05:00    0.169159\n",
       "2023-02-17 00:00:00-05:00    0.190713\n",
       "dtype: float64"
      ]
     },
     "execution_count": 38,
     "metadata": {},
     "output_type": "execute_result"
    }
   ],
   "source": [
    "# se asigna como base el SPY\n",
    "# se calcula la correlación tomando en cuenta los últimos 63 periodos (1 trimestre), este valor no es una regla.\n",
    "rolling_corr = log_returns['SPY'].rolling(window = 63).corr(log_returns['TLT'])\n",
    "\n",
    "# los primeros 63 periodos quedarían sin valor (NaN), por ende, no los consideraremos\n",
    "rolling_corr = rolling_corr.dropna()\n",
    "rolling_corr.tail(10)"
   ]
  },
  {
   "cell_type": "code",
   "execution_count": 41,
   "id": "b92ab3e9-6727-47da-af90-7557ce9e9a6f",
   "metadata": {},
   "outputs": [
    {
     "data": {
      "text/plain": [
       "count    4974.000000\n",
       "mean       -0.306312\n",
       "std         0.271914\n",
       "min        -0.836529\n",
       "50%        -0.340392\n",
       "68%        -0.184666\n",
       "95%         0.189204\n",
       "max         0.429958\n",
       "dtype: float64"
      ]
     },
     "execution_count": 41,
     "metadata": {},
     "output_type": "execute_result"
    }
   ],
   "source": [
    "# principal información de los datos\n",
    "rolling_corr.describe(percentiles = [0.68, 0.95])"
   ]
  },
  {
   "cell_type": "markdown",
   "id": "ba8efa0f-7cd7-4684-a6e7-b4772bdb0f80",
   "metadata": {},
   "source": [
    "##### Considerando estos 20 años de data, en el 95% de las veces la correlación fue de 18.9% o menos, al 17/2/23 la correlación fue del 19%, es decir existe una pequeña probabilidad (5%) que se mantenga en estos valores o sobrepase más allá de los 19.9%. Es mucho más probable que la correlación se estabilize, de hecho, en el 68% de los casos (primera desviación estándar) la correlación fue de -0.18% o menos."
   ]
  },
  {
   "cell_type": "code",
   "execution_count": 40,
   "id": "b5f56cb2-781d-43e9-b677-d2446d80c11a",
   "metadata": {},
   "outputs": [
    {
     "data": {
      "text/plain": [
       "<AxesSubplot:xlabel='Date'>"
      ]
     },
     "execution_count": 40,
     "metadata": {},
     "output_type": "execute_result"
    },
    {
     "data": {
      "image/png": "[encoded data removed]",
      "text/plain": [
       "<Figure size 864x432 with 1 Axes>"
      ]
     },
     "metadata": {
      "needs_background": "light"
     },
     "output_type": "display_data"
    }
   ],
   "source": [
    "# graficamos de forma rápida\n",
    "rolling_corr.plot(figsize = (12, 6))"
   ]
  }
 ],
 "metadata": {
  "kernelspec": {
   "display_name": "Python 3 (ipykernel)",
   "language": "python",
   "name": "python3"
  },
  "language_info": {
   "codemirror_mode": {
    "name": "ipython",
    "version": 3
   },
   "file_extension": ".py",
   "mimetype": "text/x-python",
   "name": "python",
   "nbconvert_exporter": "python",
   "pygments_lexer": "ipython3",
   "version": "3.9.12"
  }
 },
 "nbformat": 4,
 "nbformat_minor": 5
}
