{
 "cells": [
  {
   "cell_type": "markdown",
   "id": "868eebdf-2a23-4eed-986c-0910b23e9324",
   "metadata": {},
   "source": [
    "## Beta de de una conjunto de acciones"
   ]
  },
  {
   "attachments": {
    "06c1f0df-0dc7-4d24-86c6-4216a4b01d0e.png": {
     "image/png": "[encoded data removed]"
    }
   },
   "cell_type": "markdown",
   "id": "4ad9fd76-271a-4ac1-b1aa-f86e8110b186",
   "metadata": {},
   "source": [
    "![beta.png](attachment:06c1f0df-0dc7-4d24-86c6-4216a4b01d0e.png)"
   ]
  },
  {
   "cell_type": "markdown",
   "id": "e9e040c8-d393-4dd2-9625-303ab88fcc55",
   "metadata": {},
   "source": [
    "Ya teniendo clara la fórmula clásica para calcular el beta de cualquier activo es importante su interpretación:\n",
    "- Beta > 1, la acción es más volátil que el mercado, ejemplo: beta de 1.5, el mercado sube 10%, la acción subirá un 15%, lo mismo si el mercado baja (en el papel).\n",
    "- Beta = 1, la acción sube y baja a la par con el mercado.\n",
    "- Beta < 1, la acción es menos volátil, ejemplo: beta de 0.8, el mercado baja un 10%, la acción solo lo hará un 8%, lo mismo si el mercado sube (en el papel)."
   ]
  },
  {
   "cell_type": "code",
   "execution_count": 5,
   "id": "379333e8-bfcd-483d-9794-9be25cb57fe2",
   "metadata": {},
   "outputs": [],
   "source": [
    "# importando librerias indispensables\n",
    "import datetime as dt\n",
    "import numpy as np\n",
    "import pandas as pd\n",
    "from scipy import stats\n",
    "from pandas_datareader import data as pdr\n",
    "import yfinance as yf\n",
    "yf.pdr_override()"
   ]
  },
  {
   "cell_type": "code",
   "execution_count": 6,
   "id": "00470cca-9279-4fd2-876b-5b20cc8fa88f",
   "metadata": {},
   "outputs": [
    {
     "name": "stdout",
     "output_type": "stream",
     "text": [
      "[*********************100%***********************]  11 of 11 completed\n"
     ]
    },
    {
     "data": {
      "text/html": [
       "<div>\n",
       "<style scoped>\n",
       "    .dataframe tbody tr th:only-of-type {\n",
       "        vertical-align: middle;\n",
       "    }\n",
       "\n",
       "    .dataframe tbody tr th {\n",
       "        vertical-align: top;\n",
       "    }\n",
       "\n",
       "    .dataframe thead th {\n",
       "        text-align: right;\n",
       "    }\n",
       "</style>\n",
       "<table border=\"1\" class=\"dataframe\">\n",
       "  <thead>\n",
       "    <tr style=\"text-align: right;\">\n",
       "      <th></th>\n",
       "      <th>AAPL</th>\n",
       "      <th>BAC</th>\n",
       "      <th>DIS</th>\n",
       "      <th>GOOGL</th>\n",
       "      <th>MCO</th>\n",
       "      <th>NFLX</th>\n",
       "      <th>NKE</th>\n",
       "      <th>T</th>\n",
       "      <th>TXRH</th>\n",
       "      <th>V</th>\n",
       "      <th>^GSPC</th>\n",
       "    </tr>\n",
       "    <tr>\n",
       "      <th>Date</th>\n",
       "      <th></th>\n",
       "      <th></th>\n",
       "      <th></th>\n",
       "      <th></th>\n",
       "      <th></th>\n",
       "      <th></th>\n",
       "      <th></th>\n",
       "      <th></th>\n",
       "      <th></th>\n",
       "      <th></th>\n",
       "      <th></th>\n",
       "    </tr>\n",
       "  </thead>\n",
       "  <tbody>\n",
       "    <tr>\n",
       "      <th>2023-02-22 00:00:00-05:00</th>\n",
       "      <td>148.910004</td>\n",
       "      <td>34.290001</td>\n",
       "      <td>101.680000</td>\n",
       "      <td>91.650002</td>\n",
       "      <td>293.640015</td>\n",
       "      <td>334.880005</td>\n",
       "      <td>119.900002</td>\n",
       "      <td>19.379999</td>\n",
       "      <td>106.430000</td>\n",
       "      <td>220.020004</td>\n",
       "      <td>3991.050049</td>\n",
       "    </tr>\n",
       "    <tr>\n",
       "      <th>2023-02-23 00:00:00-05:00</th>\n",
       "      <td>149.399994</td>\n",
       "      <td>34.259998</td>\n",
       "      <td>101.730003</td>\n",
       "      <td>90.889999</td>\n",
       "      <td>294.440002</td>\n",
       "      <td>323.649994</td>\n",
       "      <td>119.959999</td>\n",
       "      <td>19.350000</td>\n",
       "      <td>105.209999</td>\n",
       "      <td>221.130005</td>\n",
       "      <td>4012.320068</td>\n",
       "    </tr>\n",
       "    <tr>\n",
       "      <th>2023-02-24 00:00:00-05:00</th>\n",
       "      <td>146.710007</td>\n",
       "      <td>34.209999</td>\n",
       "      <td>100.300003</td>\n",
       "      <td>89.129997</td>\n",
       "      <td>289.239990</td>\n",
       "      <td>317.149994</td>\n",
       "      <td>118.040001</td>\n",
       "      <td>19.240000</td>\n",
       "      <td>103.820000</td>\n",
       "      <td>219.550003</td>\n",
       "      <td>3970.040039</td>\n",
       "    </tr>\n",
       "  </tbody>\n",
       "</table>\n",
       "</div>"
      ],
      "text/plain": [
       "                                 AAPL        BAC         DIS      GOOGL  \\\n",
       "Date                                                                      \n",
       "2023-02-22 00:00:00-05:00  148.910004  34.290001  101.680000  91.650002   \n",
       "2023-02-23 00:00:00-05:00  149.399994  34.259998  101.730003  90.889999   \n",
       "2023-02-24 00:00:00-05:00  146.710007  34.209999  100.300003  89.129997   \n",
       "\n",
       "                                  MCO        NFLX         NKE          T  \\\n",
       "Date                                                                       \n",
       "2023-02-22 00:00:00-05:00  293.640015  334.880005  119.900002  19.379999   \n",
       "2023-02-23 00:00:00-05:00  294.440002  323.649994  119.959999  19.350000   \n",
       "2023-02-24 00:00:00-05:00  289.239990  317.149994  118.040001  19.240000   \n",
       "\n",
       "                                 TXRH           V        ^GSPC  \n",
       "Date                                                            \n",
       "2023-02-22 00:00:00-05:00  106.430000  220.020004  3991.050049  \n",
       "2023-02-23 00:00:00-05:00  105.209999  221.130005  4012.320068  \n",
       "2023-02-24 00:00:00-05:00  103.820000  219.550003  3970.040039  "
      ]
     },
     "execution_count": 6,
     "metadata": {},
     "output_type": "execute_result"
    }
   ],
   "source": [
    "# definiendo un rango de tiempo\n",
    "start = dt.datetime(2017, 1, 1)\n",
    "end = dt.datetime.now()\n",
    "\n",
    "# selección de acciones o los tickers de las empresas consideradas + el SP500\n",
    "tickers = ['AAPL', 'GOOGL', 'NFLX', 'BAC', 'V', 'DIS', 'NKE', 'MCO', 'TXRH', 'T', '^GSPC']\n",
    "\n",
    "# obteniendo los precios de cierre del conjunto de acciones + el SP500\n",
    "prices = pdr.get_data_yahoo(tickers, start, end)['Adj Close']\n",
    "prices.tail(3)"
   ]
  },
  {
   "cell_type": "code",
   "execution_count": 4,
   "id": "df604492-84f5-435b-8cee-39c35db74276",
   "metadata": {},
   "outputs": [
    {
     "data": {
      "text/html": [
       "<div>\n",
       "<style scoped>\n",
       "    .dataframe tbody tr th:only-of-type {\n",
       "        vertical-align: middle;\n",
       "    }\n",
       "\n",
       "    .dataframe tbody tr th {\n",
       "        vertical-align: top;\n",
       "    }\n",
       "\n",
       "    .dataframe thead th {\n",
       "        text-align: right;\n",
       "    }\n",
       "</style>\n",
       "<table border=\"1\" class=\"dataframe\">\n",
       "  <thead>\n",
       "    <tr style=\"text-align: right;\">\n",
       "      <th></th>\n",
       "      <th>AAPL</th>\n",
       "      <th>BAC</th>\n",
       "      <th>DIS</th>\n",
       "      <th>GOOGL</th>\n",
       "      <th>MCO</th>\n",
       "      <th>NFLX</th>\n",
       "      <th>NKE</th>\n",
       "      <th>T</th>\n",
       "      <th>TXRH</th>\n",
       "      <th>V</th>\n",
       "      <th>^GSPC</th>\n",
       "    </tr>\n",
       "    <tr>\n",
       "      <th>Date</th>\n",
       "      <th></th>\n",
       "      <th></th>\n",
       "      <th></th>\n",
       "      <th></th>\n",
       "      <th></th>\n",
       "      <th></th>\n",
       "      <th></th>\n",
       "      <th></th>\n",
       "      <th></th>\n",
       "      <th></th>\n",
       "      <th></th>\n",
       "    </tr>\n",
       "  </thead>\n",
       "  <tbody>\n",
       "    <tr>\n",
       "      <th>2023-02-17 00:00:00-05:00</th>\n",
       "      <td>-0.007575</td>\n",
       "      <td>0.001982</td>\n",
       "      <td>-0.005781</td>\n",
       "      <td>-0.012220</td>\n",
       "      <td>-0.003477</td>\n",
       "      <td>-0.007872</td>\n",
       "      <td>0.003692</td>\n",
       "      <td>0.009302</td>\n",
       "      <td>-0.007925</td>\n",
       "      <td>-0.010103</td>\n",
       "      <td>-0.002771</td>\n",
       "    </tr>\n",
       "    <tr>\n",
       "      <th>2023-02-21 00:00:00-05:00</th>\n",
       "      <td>-0.027042</td>\n",
       "      <td>-0.023759</td>\n",
       "      <td>-0.030199</td>\n",
       "      <td>-0.027508</td>\n",
       "      <td>-0.022171</td>\n",
       "      <td>-0.030522</td>\n",
       "      <td>-0.030416</td>\n",
       "      <td>-0.011902</td>\n",
       "      <td>0.002489</td>\n",
       "      <td>-0.013238</td>\n",
       "      <td>-0.020245</td>\n",
       "    </tr>\n",
       "    <tr>\n",
       "      <th>2023-02-22 00:00:00-05:00</th>\n",
       "      <td>0.002892</td>\n",
       "      <td>-0.006685</td>\n",
       "      <td>-0.004024</td>\n",
       "      <td>-0.001526</td>\n",
       "      <td>-0.001459</td>\n",
       "      <td>-0.007793</td>\n",
       "      <td>-0.009959</td>\n",
       "      <td>0.008811</td>\n",
       "      <td>0.017535</td>\n",
       "      <td>-0.002723</td>\n",
       "      <td>-0.001575</td>\n",
       "    </tr>\n",
       "    <tr>\n",
       "      <th>2023-02-23 00:00:00-05:00</th>\n",
       "      <td>0.003285</td>\n",
       "      <td>-0.000875</td>\n",
       "      <td>0.000492</td>\n",
       "      <td>-0.008327</td>\n",
       "      <td>0.002721</td>\n",
       "      <td>-0.034110</td>\n",
       "      <td>0.000500</td>\n",
       "      <td>-0.001549</td>\n",
       "      <td>-0.011529</td>\n",
       "      <td>0.005032</td>\n",
       "      <td>0.005315</td>\n",
       "    </tr>\n",
       "    <tr>\n",
       "      <th>2023-02-24 00:00:00-05:00</th>\n",
       "      <td>-0.018169</td>\n",
       "      <td>-0.001460</td>\n",
       "      <td>-0.014157</td>\n",
       "      <td>-0.019554</td>\n",
       "      <td>-0.017818</td>\n",
       "      <td>-0.020288</td>\n",
       "      <td>-0.016135</td>\n",
       "      <td>-0.005701</td>\n",
       "      <td>-0.013300</td>\n",
       "      <td>-0.007171</td>\n",
       "      <td>-0.010593</td>\n",
       "    </tr>\n",
       "  </tbody>\n",
       "</table>\n",
       "</div>"
      ],
      "text/plain": [
       "                               AAPL       BAC       DIS     GOOGL       MCO  \\\n",
       "Date                                                                          \n",
       "2023-02-17 00:00:00-05:00 -0.007575  0.001982 -0.005781 -0.012220 -0.003477   \n",
       "2023-02-21 00:00:00-05:00 -0.027042 -0.023759 -0.030199 -0.027508 -0.022171   \n",
       "2023-02-22 00:00:00-05:00  0.002892 -0.006685 -0.004024 -0.001526 -0.001459   \n",
       "2023-02-23 00:00:00-05:00  0.003285 -0.000875  0.000492 -0.008327  0.002721   \n",
       "2023-02-24 00:00:00-05:00 -0.018169 -0.001460 -0.014157 -0.019554 -0.017818   \n",
       "\n",
       "                               NFLX       NKE         T      TXRH         V  \\\n",
       "Date                                                                          \n",
       "2023-02-17 00:00:00-05:00 -0.007872  0.003692  0.009302 -0.007925 -0.010103   \n",
       "2023-02-21 00:00:00-05:00 -0.030522 -0.030416 -0.011902  0.002489 -0.013238   \n",
       "2023-02-22 00:00:00-05:00 -0.007793 -0.009959  0.008811  0.017535 -0.002723   \n",
       "2023-02-23 00:00:00-05:00 -0.034110  0.000500 -0.001549 -0.011529  0.005032   \n",
       "2023-02-24 00:00:00-05:00 -0.020288 -0.016135 -0.005701 -0.013300 -0.007171   \n",
       "\n",
       "                              ^GSPC  \n",
       "Date                                 \n",
       "2023-02-17 00:00:00-05:00 -0.002771  \n",
       "2023-02-21 00:00:00-05:00 -0.020245  \n",
       "2023-02-22 00:00:00-05:00 -0.001575  \n",
       "2023-02-23 00:00:00-05:00  0.005315  \n",
       "2023-02-24 00:00:00-05:00 -0.010593  "
      ]
     },
     "execution_count": 4,
     "metadata": {},
     "output_type": "execute_result"
    }
   ],
   "source": [
    "# obteniendo los retornos\n",
    "log_returns = np.log(prices/prices.shift())\n",
    "log_returns.tail()"
   ]
  },
  {
   "cell_type": "markdown",
   "id": "bf7a573e-95ff-450b-94da-047c6bd9e7c2",
   "metadata": {},
   "source": [
    "### Cálculo covarianzas y la varianza del mercado"
   ]
  },
  {
   "cell_type": "markdown",
   "id": "0f2893c1-925d-4196-b28e-cd0a26399f23",
   "metadata": {},
   "source": [
    "#### 1. Covarianza"
   ]
  },
  {
   "cell_type": "code",
   "execution_count": 12,
   "id": "6b17a6ec-fd5d-42bf-9adb-d4be45e91fff",
   "metadata": {},
   "outputs": [
    {
     "data": {
      "text/html": [
       "<div>\n",
       "<style scoped>\n",
       "    .dataframe tbody tr th:only-of-type {\n",
       "        vertical-align: middle;\n",
       "    }\n",
       "\n",
       "    .dataframe tbody tr th {\n",
       "        vertical-align: top;\n",
       "    }\n",
       "\n",
       "    .dataframe thead th {\n",
       "        text-align: right;\n",
       "    }\n",
       "</style>\n",
       "<table border=\"1\" class=\"dataframe\">\n",
       "  <thead>\n",
       "    <tr style=\"text-align: right;\">\n",
       "      <th></th>\n",
       "      <th>AAPL</th>\n",
       "      <th>BAC</th>\n",
       "      <th>DIS</th>\n",
       "      <th>GOOGL</th>\n",
       "      <th>MCO</th>\n",
       "      <th>NFLX</th>\n",
       "      <th>NKE</th>\n",
       "      <th>T</th>\n",
       "      <th>TXRH</th>\n",
       "      <th>V</th>\n",
       "      <th>^GSPC</th>\n",
       "    </tr>\n",
       "  </thead>\n",
       "  <tbody>\n",
       "    <tr>\n",
       "      <th>AAPL</th>\n",
       "      <td>0.000389</td>\n",
       "      <td>0.000192</td>\n",
       "      <td>0.000177</td>\n",
       "      <td>0.000254</td>\n",
       "      <td>0.000227</td>\n",
       "      <td>0.000267</td>\n",
       "      <td>0.000201</td>\n",
       "      <td>0.000102</td>\n",
       "      <td>0.000161</td>\n",
       "      <td>0.000211</td>\n",
       "      <td>0.000198</td>\n",
       "    </tr>\n",
       "    <tr>\n",
       "      <th>BAC</th>\n",
       "      <td>0.000192</td>\n",
       "      <td>0.000438</td>\n",
       "      <td>0.000233</td>\n",
       "      <td>0.000188</td>\n",
       "      <td>0.000216</td>\n",
       "      <td>0.000150</td>\n",
       "      <td>0.000201</td>\n",
       "      <td>0.000171</td>\n",
       "      <td>0.000259</td>\n",
       "      <td>0.000216</td>\n",
       "      <td>0.000196</td>\n",
       "    </tr>\n",
       "    <tr>\n",
       "      <th>DIS</th>\n",
       "      <td>0.000177</td>\n",
       "      <td>0.000233</td>\n",
       "      <td>0.000367</td>\n",
       "      <td>0.000182</td>\n",
       "      <td>0.000185</td>\n",
       "      <td>0.000205</td>\n",
       "      <td>0.000192</td>\n",
       "      <td>0.000133</td>\n",
       "      <td>0.000225</td>\n",
       "      <td>0.000193</td>\n",
       "      <td>0.000164</td>\n",
       "    </tr>\n",
       "    <tr>\n",
       "      <th>GOOGL</th>\n",
       "      <td>0.000254</td>\n",
       "      <td>0.000188</td>\n",
       "      <td>0.000182</td>\n",
       "      <td>0.000352</td>\n",
       "      <td>0.000214</td>\n",
       "      <td>0.000272</td>\n",
       "      <td>0.000189</td>\n",
       "      <td>0.000093</td>\n",
       "      <td>0.000173</td>\n",
       "      <td>0.000203</td>\n",
       "      <td>0.000186</td>\n",
       "    </tr>\n",
       "    <tr>\n",
       "      <th>MCO</th>\n",
       "      <td>0.000227</td>\n",
       "      <td>0.000216</td>\n",
       "      <td>0.000185</td>\n",
       "      <td>0.000214</td>\n",
       "      <td>0.000359</td>\n",
       "      <td>0.000220</td>\n",
       "      <td>0.000213</td>\n",
       "      <td>0.000122</td>\n",
       "      <td>0.000202</td>\n",
       "      <td>0.000220</td>\n",
       "      <td>0.000191</td>\n",
       "    </tr>\n",
       "    <tr>\n",
       "      <th>NFLX</th>\n",
       "      <td>0.000267</td>\n",
       "      <td>0.000150</td>\n",
       "      <td>0.000205</td>\n",
       "      <td>0.000272</td>\n",
       "      <td>0.000220</td>\n",
       "      <td>0.000844</td>\n",
       "      <td>0.000200</td>\n",
       "      <td>0.000072</td>\n",
       "      <td>0.000166</td>\n",
       "      <td>0.000191</td>\n",
       "      <td>0.000183</td>\n",
       "    </tr>\n",
       "    <tr>\n",
       "      <th>NKE</th>\n",
       "      <td>0.000201</td>\n",
       "      <td>0.000201</td>\n",
       "      <td>0.000192</td>\n",
       "      <td>0.000189</td>\n",
       "      <td>0.000213</td>\n",
       "      <td>0.000200</td>\n",
       "      <td>0.000392</td>\n",
       "      <td>0.000110</td>\n",
       "      <td>0.000184</td>\n",
       "      <td>0.000188</td>\n",
       "      <td>0.000171</td>\n",
       "    </tr>\n",
       "    <tr>\n",
       "      <th>T</th>\n",
       "      <td>0.000102</td>\n",
       "      <td>0.000171</td>\n",
       "      <td>0.000133</td>\n",
       "      <td>0.000093</td>\n",
       "      <td>0.000122</td>\n",
       "      <td>0.000072</td>\n",
       "      <td>0.000110</td>\n",
       "      <td>0.000237</td>\n",
       "      <td>0.000110</td>\n",
       "      <td>0.000113</td>\n",
       "      <td>0.000109</td>\n",
       "    </tr>\n",
       "    <tr>\n",
       "      <th>TXRH</th>\n",
       "      <td>0.000161</td>\n",
       "      <td>0.000259</td>\n",
       "      <td>0.000225</td>\n",
       "      <td>0.000173</td>\n",
       "      <td>0.000202</td>\n",
       "      <td>0.000166</td>\n",
       "      <td>0.000184</td>\n",
       "      <td>0.000110</td>\n",
       "      <td>0.000638</td>\n",
       "      <td>0.000196</td>\n",
       "      <td>0.000168</td>\n",
       "    </tr>\n",
       "    <tr>\n",
       "      <th>V</th>\n",
       "      <td>0.000211</td>\n",
       "      <td>0.000216</td>\n",
       "      <td>0.000193</td>\n",
       "      <td>0.000203</td>\n",
       "      <td>0.000220</td>\n",
       "      <td>0.000191</td>\n",
       "      <td>0.000188</td>\n",
       "      <td>0.000113</td>\n",
       "      <td>0.000196</td>\n",
       "      <td>0.000292</td>\n",
       "      <td>0.000175</td>\n",
       "    </tr>\n",
       "    <tr>\n",
       "      <th>^GSPC</th>\n",
       "      <td>0.000198</td>\n",
       "      <td>0.000196</td>\n",
       "      <td>0.000164</td>\n",
       "      <td>0.000186</td>\n",
       "      <td>0.000191</td>\n",
       "      <td>0.000183</td>\n",
       "      <td>0.000171</td>\n",
       "      <td>0.000109</td>\n",
       "      <td>0.000168</td>\n",
       "      <td>0.000175</td>\n",
       "      <td>0.000161</td>\n",
       "    </tr>\n",
       "  </tbody>\n",
       "</table>\n",
       "</div>"
      ],
      "text/plain": [
       "           AAPL       BAC       DIS     GOOGL       MCO      NFLX       NKE  \\\n",
       "AAPL   0.000389  0.000192  0.000177  0.000254  0.000227  0.000267  0.000201   \n",
       "BAC    0.000192  0.000438  0.000233  0.000188  0.000216  0.000150  0.000201   \n",
       "DIS    0.000177  0.000233  0.000367  0.000182  0.000185  0.000205  0.000192   \n",
       "GOOGL  0.000254  0.000188  0.000182  0.000352  0.000214  0.000272  0.000189   \n",
       "MCO    0.000227  0.000216  0.000185  0.000214  0.000359  0.000220  0.000213   \n",
       "NFLX   0.000267  0.000150  0.000205  0.000272  0.000220  0.000844  0.000200   \n",
       "NKE    0.000201  0.000201  0.000192  0.000189  0.000213  0.000200  0.000392   \n",
       "T      0.000102  0.000171  0.000133  0.000093  0.000122  0.000072  0.000110   \n",
       "TXRH   0.000161  0.000259  0.000225  0.000173  0.000202  0.000166  0.000184   \n",
       "V      0.000211  0.000216  0.000193  0.000203  0.000220  0.000191  0.000188   \n",
       "^GSPC  0.000198  0.000196  0.000164  0.000186  0.000191  0.000183  0.000171   \n",
       "\n",
       "              T      TXRH         V     ^GSPC  \n",
       "AAPL   0.000102  0.000161  0.000211  0.000198  \n",
       "BAC    0.000171  0.000259  0.000216  0.000196  \n",
       "DIS    0.000133  0.000225  0.000193  0.000164  \n",
       "GOOGL  0.000093  0.000173  0.000203  0.000186  \n",
       "MCO    0.000122  0.000202  0.000220  0.000191  \n",
       "NFLX   0.000072  0.000166  0.000191  0.000183  \n",
       "NKE    0.000110  0.000184  0.000188  0.000171  \n",
       "T      0.000237  0.000110  0.000113  0.000109  \n",
       "TXRH   0.000110  0.000638  0.000196  0.000168  \n",
       "V      0.000113  0.000196  0.000292  0.000175  \n",
       "^GSPC  0.000109  0.000168  0.000175  0.000161  "
      ]
     },
     "execution_count": 12,
     "metadata": {},
     "output_type": "execute_result"
    }
   ],
   "source": [
    "covariance_matrix = log_returns.cov()\n",
    "covariance_matrix"
   ]
  },
  {
   "cell_type": "markdown",
   "id": "1d6c70c5-4915-4372-93bd-dd960396fbc2",
   "metadata": {},
   "source": [
    "El resultado es una matriz de covarianza, nos interesa la última columna, ya que, posee la covariaza de cada acción respecto al mercado."
   ]
  },
  {
   "cell_type": "code",
   "execution_count": 11,
   "id": "edf44be8-6bca-4c7c-a5c6-035ed077f695",
   "metadata": {},
   "outputs": [
    {
     "data": {
      "text/plain": [
       "AAPL     0.000198\n",
       "BAC      0.000196\n",
       "DIS      0.000164\n",
       "GOOGL    0.000186\n",
       "MCO      0.000191\n",
       "NFLX     0.000183\n",
       "NKE      0.000171\n",
       "T        0.000109\n",
       "TXRH     0.000168\n",
       "V        0.000175\n",
       "Name: ^GSPC, dtype: float64"
      ]
     },
     "execution_count": 11,
     "metadata": {},
     "output_type": "execute_result"
    }
   ],
   "source": [
    "# creando variable que contenga la covarianza de cada acción respecto al mercado\n",
    "# .iloc para seleccionar la columnda y filas con la información de interés\n",
    "covariances = covariance_matrix.iloc[:10, 10]\n",
    "covariances"
   ]
  },
  {
   "cell_type": "markdown",
   "id": "6ad5d168-1cdd-4c92-9274-a3813e320450",
   "metadata": {},
   "source": [
    "#### 2. Varianza del SP500"
   ]
  },
  {
   "cell_type": "code",
   "execution_count": 14,
   "id": "c50adb48-be13-4804-bb7b-65a1eae29d37",
   "metadata": {},
   "outputs": [
    {
     "data": {
      "text/plain": [
       "0.00016121850138949123"
      ]
     },
     "execution_count": 14,
     "metadata": {},
     "output_type": "execute_result"
    }
   ],
   "source": [
    "# 1 método\n",
    "market_variance = log_returns['^GSPC'].var()\n",
    "market_variance"
   ]
  },
  {
   "cell_type": "code",
   "execution_count": 18,
   "id": "8698b530-da22-40ff-826b-d6a4acd9f476",
   "metadata": {},
   "outputs": [
    {
     "data": {
      "text/plain": [
       "0.00016121850138949123"
      ]
     },
     "execution_count": 18,
     "metadata": {},
     "output_type": "execute_result"
    }
   ],
   "source": [
    "# 2 método: .iloc\n",
    "market_variance_2 = log_returns.iloc[:, 10].var()\n",
    "market_variance_2"
   ]
  },
  {
   "cell_type": "markdown",
   "id": "00a1e1a5-5d73-4b76-9ed3-7fe2a8d7fd1c",
   "metadata": {},
   "source": [
    "### Calculando betas"
   ]
  },
  {
   "cell_type": "code",
   "execution_count": 19,
   "id": "488e389c-fd36-4bd4-a5e3-f11f55a24441",
   "metadata": {},
   "outputs": [
    {
     "data": {
      "text/plain": [
       "AAPL     1.228162\n",
       "BAC      1.214056\n",
       "DIS      1.018435\n",
       "GOOGL    1.156036\n",
       "MCO      1.186762\n",
       "NFLX     1.137659\n",
       "NKE      1.059169\n",
       "T        0.674051\n",
       "TXRH     1.039377\n",
       "V        1.083078\n",
       "Name: ^GSPC, dtype: float64"
      ]
     },
     "execution_count": 19,
     "metadata": {},
     "output_type": "execute_result"
    }
   ],
   "source": [
    "betas = covariances / market_variance\n",
    "betas"
   ]
  },
  {
   "cell_type": "code",
   "execution_count": 22,
   "id": "d070fc79-9657-4043-ab64-486b8f500692",
   "metadata": {},
   "outputs": [
    {
     "data": {
      "text/plain": [
       "BAC    1.214056\n",
       "T      0.674051\n",
       "Name: ^GSPC, dtype: float64"
      ]
     },
     "execution_count": 22,
     "metadata": {},
     "output_type": "execute_result"
    }
   ],
   "source": [
    "# en el caso de que desee selecciónar beta de Bank of America y AT&T\n",
    "betas[['BAC', 'T']]"
   ]
  }
 ],
 "metadata": {
  "kernelspec": {
   "display_name": "Python 3 (ipykernel)",
   "language": "python",
   "name": "python3"
  },
  "language_info": {
   "codemirror_mode": {
    "name": "ipython",
    "version": 3
   },
   "file_extension": ".py",
   "mimetype": "text/x-python",
   "name": "python",
   "nbconvert_exporter": "python",
   "pygments_lexer": "ipython3",
   "version": "3.9.12"
  }
 },
 "nbformat": 4,
 "nbformat_minor": 5
}
