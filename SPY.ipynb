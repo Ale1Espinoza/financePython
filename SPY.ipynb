{
 "cells": [
  {
   "cell_type": "code",
   "execution_count": 1,
   "id": "9ec17170-5ae0-40e9-9ffd-72c869cf4ca6",
   "metadata": {},
   "outputs": [],
   "source": [
    "import pandas as pd\n",
    "import numpy as np\n",
    "\n",
    "import datetime as dt\n",
    "from pandas_datareader import data as pdr\n",
    "import yfinance as yf\n",
    "yf.pdr_override()"
   ]
  },
  {
   "cell_type": "code",
   "execution_count": 7,
   "id": "f391eab9-4482-4039-8d8f-12088ad5dc4a",
   "metadata": {},
   "outputs": [
    {
     "name": "stdout",
     "output_type": "stream",
     "text": [
      "[*********************100%***********************]  1 of 1 completed\n"
     ]
    }
   ],
   "source": [
    "end = dt.datetime(2023,2,10)\n",
    "start = dt.datetime(2003,2,10)\n",
    "spy = pdr.get_data_yahoo('SPY', start, end)"
   ]
  },
  {
   "cell_type": "markdown",
   "id": "67d7e49b-34ff-4e64-9085-b74b6e6a70e2",
   "metadata": {},
   "source": [
    "### Log"
   ]
  },
  {
   "cell_type": "code",
   "execution_count": null,
   "id": "ff78f550-e2a4-4662-9bf2-760dc84d41a3",
   "metadata": {},
   "outputs": [],
   "source": [
    "# https://tlc.thinkorswim.com/center/reference/Tech-Indicators/studies-library/G-L/HistoricalVolatility"
   ]
  },
  {
   "cell_type": "code",
   "execution_count": 3,
   "id": "7fdd782b-868a-4861-8966-c39d5377126c",
   "metadata": {},
   "outputs": [
    {
     "data": {
      "text/html": [
       "<div>\n",
       "<style scoped>\n",
       "    .dataframe tbody tr th:only-of-type {\n",
       "        vertical-align: middle;\n",
       "    }\n",
       "\n",
       "    .dataframe tbody tr th {\n",
       "        vertical-align: top;\n",
       "    }\n",
       "\n",
       "    .dataframe thead th {\n",
       "        text-align: right;\n",
       "    }\n",
       "</style>\n",
       "<table border=\"1\" class=\"dataframe\">\n",
       "  <thead>\n",
       "    <tr style=\"text-align: right;\">\n",
       "      <th></th>\n",
       "      <th>Open</th>\n",
       "      <th>High</th>\n",
       "      <th>Low</th>\n",
       "      <th>Close</th>\n",
       "      <th>Adj Close</th>\n",
       "      <th>Volume</th>\n",
       "      <th>Log Return</th>\n",
       "    </tr>\n",
       "    <tr>\n",
       "      <th>Date</th>\n",
       "      <th></th>\n",
       "      <th></th>\n",
       "      <th></th>\n",
       "      <th></th>\n",
       "      <th></th>\n",
       "      <th></th>\n",
       "      <th></th>\n",
       "    </tr>\n",
       "  </thead>\n",
       "  <tbody>\n",
       "    <tr>\n",
       "      <th>2003-02-11 00:00:00-05:00</th>\n",
       "      <td>84.370003</td>\n",
       "      <td>84.879997</td>\n",
       "      <td>82.830002</td>\n",
       "      <td>83.430000</td>\n",
       "      <td>56.842400</td>\n",
       "      <td>46861000</td>\n",
       "      <td>-0.006928</td>\n",
       "    </tr>\n",
       "    <tr>\n",
       "      <th>2003-02-12 00:00:00-05:00</th>\n",
       "      <td>83.160004</td>\n",
       "      <td>83.620003</td>\n",
       "      <td>82.089996</td>\n",
       "      <td>82.099998</td>\n",
       "      <td>55.936256</td>\n",
       "      <td>35873600</td>\n",
       "      <td>-0.016070</td>\n",
       "    </tr>\n",
       "    <tr>\n",
       "      <th>2003-02-13 00:00:00-05:00</th>\n",
       "      <td>82.150002</td>\n",
       "      <td>82.660004</td>\n",
       "      <td>81.000000</td>\n",
       "      <td>82.349998</td>\n",
       "      <td>56.106613</td>\n",
       "      <td>57934100</td>\n",
       "      <td>0.003040</td>\n",
       "    </tr>\n",
       "    <tr>\n",
       "      <th>2003-02-14 00:00:00-05:00</th>\n",
       "      <td>82.370003</td>\n",
       "      <td>84.199997</td>\n",
       "      <td>81.820000</td>\n",
       "      <td>84.150002</td>\n",
       "      <td>57.332958</td>\n",
       "      <td>59580900</td>\n",
       "      <td>0.021623</td>\n",
       "    </tr>\n",
       "    <tr>\n",
       "      <th>2003-02-18 00:00:00-05:00</th>\n",
       "      <td>84.529999</td>\n",
       "      <td>85.800003</td>\n",
       "      <td>84.389999</td>\n",
       "      <td>85.629997</td>\n",
       "      <td>58.341320</td>\n",
       "      <td>39492700</td>\n",
       "      <td>0.017435</td>\n",
       "    </tr>\n",
       "  </tbody>\n",
       "</table>\n",
       "</div>"
      ],
      "text/plain": [
       "                                Open       High        Low      Close  \\\n",
       "Date                                                                    \n",
       "2003-02-11 00:00:00-05:00  84.370003  84.879997  82.830002  83.430000   \n",
       "2003-02-12 00:00:00-05:00  83.160004  83.620003  82.089996  82.099998   \n",
       "2003-02-13 00:00:00-05:00  82.150002  82.660004  81.000000  82.349998   \n",
       "2003-02-14 00:00:00-05:00  82.370003  84.199997  81.820000  84.150002   \n",
       "2003-02-18 00:00:00-05:00  84.529999  85.800003  84.389999  85.629997   \n",
       "\n",
       "                           Adj Close    Volume  Log Return  \n",
       "Date                                                        \n",
       "2003-02-11 00:00:00-05:00  56.842400  46861000   -0.006928  \n",
       "2003-02-12 00:00:00-05:00  55.936256  35873600   -0.016070  \n",
       "2003-02-13 00:00:00-05:00  56.106613  57934100    0.003040  \n",
       "2003-02-14 00:00:00-05:00  57.332958  59580900    0.021623  \n",
       "2003-02-18 00:00:00-05:00  58.341320  39492700    0.017435  "
      ]
     },
     "execution_count": 3,
     "metadata": {},
     "output_type": "execute_result"
    }
   ],
   "source": [
    "spy['Log Return'] = np.log(spy['Close'] / spy['Close'].shift())\n",
    "spy = spy.dropna()\n",
    "spy.head()"
   ]
  },
  {
   "cell_type": "code",
   "execution_count": 4,
   "id": "b7d796b9-66ee-4627-8364-1b6d03ed4f93",
   "metadata": {},
   "outputs": [
    {
     "data": {
      "text/plain": [
       "count    5035.000000\n",
       "mean        0.000313\n",
       "std         0.012069\n",
       "min        -0.115887\n",
       "25%        -0.004173\n",
       "35%        -0.001799\n",
       "50%         0.000654\n",
       "75%         0.005771\n",
       "90%         0.011935\n",
       "max         0.135577\n",
       "Name: Log Return, dtype: float64"
      ]
     },
     "execution_count": 4,
     "metadata": {},
     "output_type": "execute_result"
    }
   ],
   "source": [
    "spy['Log Return'].describe(percentiles=[0.25, 0.35, 0.75, 0.9])"
   ]
  },
  {
   "cell_type": "code",
   "execution_count": 5,
   "id": "a9bca7dd-e20a-43d9-8871-524d4650ba4f",
   "metadata": {},
   "outputs": [
    {
     "data": {
      "text/plain": [
       "Date\n",
       "2023-02-03 00:00:00-05:00    0.172498\n",
       "2023-02-06 00:00:00-05:00    0.167602\n",
       "2023-02-07 00:00:00-05:00    0.156784\n",
       "2023-02-08 00:00:00-05:00    0.163951\n",
       "2023-02-09 00:00:00-05:00    0.167772\n",
       "Name: Log Return, dtype: float64"
      ]
     },
     "execution_count": 5,
     "metadata": {},
     "output_type": "execute_result"
    }
   ],
   "source": [
    "# lo que se calculará es el trailling volatility, asumiendo que la volatilidad se va actualizando.\n",
    "volatility = spy['Log Return'].rolling(window = 21).std() * np.sqrt(252)\n",
    "volatility.tail(5)"
   ]
  },
  {
   "cell_type": "code",
   "execution_count": 6,
   "id": "e46f7c90-4d76-48f2-8a62-b032ae07b18f",
   "metadata": {},
   "outputs": [
    {
     "data": {
      "text/plain": [
       "<AxesSubplot:xlabel='Date'>"
      ]
     },
     "execution_count": 6,
     "metadata": {},
     "output_type": "execute_result"
    },
    {
     "data": {
      "image/png": "[encoded data removed]",
      "text/plain": [
       "<Figure size 432x288 with 1 Axes>"
      ]
     },
     "metadata": {
      "needs_background": "light"
     },
     "output_type": "display_data"
    }
   ],
   "source": [
    "volatility.plot()"
   ]
  },
  {
   "cell_type": "code",
   "execution_count": 88,
   "id": "b3493490-c0c2-41fe-87f1-3d69ab6922ce",
   "metadata": {},
   "outputs": [
    {
     "data": {
      "text/plain": [
       "count    5015.000000\n",
       "mean        0.157861\n",
       "std         0.110796\n",
       "min         0.034734\n",
       "25%         0.093216\n",
       "50%         0.129868\n",
       "75%         0.186536\n",
       "85%         0.228117\n",
       "max         0.939958\n",
       "Name: Log Return, dtype: float64"
      ]
     },
     "execution_count": 88,
     "metadata": {},
     "output_type": "execute_result"
    }
   ],
   "source": [
    "volatility.describe(percentiles = [0.25, 0.75, 0.85])"
   ]
  },
  {
   "cell_type": "markdown",
   "id": "097fbc96-4f00-46a8-90a9-3422d1c2c4cc",
   "metadata": {},
   "source": [
    "### ATR"
   ]
  },
  {
   "cell_type": "code",
   "execution_count": 18,
   "id": "e6c16340-5849-43d1-9431-b7c08c96c694",
   "metadata": {},
   "outputs": [
    {
     "data": {
      "text/plain": [
       "Date\n",
       "2023-02-03 00:00:00-05:00    6.224287\n",
       "2023-02-06 00:00:00-05:00    6.301429\n",
       "2023-02-07 00:00:00-05:00    6.307142\n",
       "2023-02-08 00:00:00-05:00    6.380716\n",
       "2023-02-09 00:00:00-05:00    6.459287\n",
       "dtype: float64"
      ]
     },
     "execution_count": 18,
     "metadata": {},
     "output_type": "execute_result"
    }
   ],
   "source": [
    "high_low = spy['High'] - spy['Low']\n",
    "high_cp = np.abs(spy['High'] - spy['Close'].shift())\n",
    "low_cp = np.abs(spy['Low'] - spy['Close'].shift())\n",
    "\n",
    "concat = pd.concat([high_low, high_cp, low_cp], axis = 1)\n",
    "\n",
    "max_range = np.max(concat, axis = 1)\n",
    "\n",
    "# ATR a con periocidad del último 1 mes\n",
    "atr = max_range.rolling(14).mean()\n",
    "atr.tail()"
   ]
  },
  {
   "cell_type": "code",
   "execution_count": 19,
   "id": "b41d8938-93f6-4c07-a83b-d276813bb509",
   "metadata": {},
   "outputs": [
    {
     "data": {
      "text/html": [
       "<div>\n",
       "<style scoped>\n",
       "    .dataframe tbody tr th:only-of-type {\n",
       "        vertical-align: middle;\n",
       "    }\n",
       "\n",
       "    .dataframe tbody tr th {\n",
       "        vertical-align: top;\n",
       "    }\n",
       "\n",
       "    .dataframe thead th {\n",
       "        text-align: right;\n",
       "    }\n",
       "</style>\n",
       "<table border=\"1\" class=\"dataframe\">\n",
       "  <thead>\n",
       "    <tr style=\"text-align: right;\">\n",
       "      <th></th>\n",
       "      <th>Close</th>\n",
       "      <th>ATR</th>\n",
       "    </tr>\n",
       "    <tr>\n",
       "      <th>Date</th>\n",
       "      <th></th>\n",
       "      <th></th>\n",
       "    </tr>\n",
       "  </thead>\n",
       "  <tbody>\n",
       "    <tr>\n",
       "      <th>2023-02-03 00:00:00-05:00</th>\n",
       "      <td>412.350006</td>\n",
       "      <td>6.224287</td>\n",
       "    </tr>\n",
       "    <tr>\n",
       "      <th>2023-02-06 00:00:00-05:00</th>\n",
       "      <td>409.829987</td>\n",
       "      <td>6.301429</td>\n",
       "    </tr>\n",
       "    <tr>\n",
       "      <th>2023-02-07 00:00:00-05:00</th>\n",
       "      <td>415.190002</td>\n",
       "      <td>6.307142</td>\n",
       "    </tr>\n",
       "    <tr>\n",
       "      <th>2023-02-08 00:00:00-05:00</th>\n",
       "      <td>410.649994</td>\n",
       "      <td>6.380716</td>\n",
       "    </tr>\n",
       "    <tr>\n",
       "      <th>2023-02-09 00:00:00-05:00</th>\n",
       "      <td>407.089996</td>\n",
       "      <td>6.459287</td>\n",
       "    </tr>\n",
       "  </tbody>\n",
       "</table>\n",
       "</div>"
      ],
      "text/plain": [
       "                                Close       ATR\n",
       "Date                                           \n",
       "2023-02-03 00:00:00-05:00  412.350006  6.224287\n",
       "2023-02-06 00:00:00-05:00  409.829987  6.301429\n",
       "2023-02-07 00:00:00-05:00  415.190002  6.307142\n",
       "2023-02-08 00:00:00-05:00  410.649994  6.380716\n",
       "2023-02-09 00:00:00-05:00  407.089996  6.459287"
      ]
     },
     "execution_count": 19,
     "metadata": {},
     "output_type": "execute_result"
    }
   ],
   "source": [
    "# Quiero el ATR como porcentaje del cierre previo\n",
    "close = spy['Close']\n",
    "close_atr = pd.concat([close, atr], axis = 1, keys= ['Close', 'ATR'])\n",
    "close_atr.tail()"
   ]
  },
  {
   "cell_type": "code",
   "execution_count": 20,
   "id": "769b2913-19c0-406c-b5fb-02dc2511e391",
   "metadata": {},
   "outputs": [
    {
     "data": {
      "text/html": [
       "<div>\n",
       "<style scoped>\n",
       "    .dataframe tbody tr th:only-of-type {\n",
       "        vertical-align: middle;\n",
       "    }\n",
       "\n",
       "    .dataframe tbody tr th {\n",
       "        vertical-align: top;\n",
       "    }\n",
       "\n",
       "    .dataframe thead th {\n",
       "        text-align: right;\n",
       "    }\n",
       "</style>\n",
       "<table border=\"1\" class=\"dataframe\">\n",
       "  <thead>\n",
       "    <tr style=\"text-align: right;\">\n",
       "      <th></th>\n",
       "      <th>Close</th>\n",
       "      <th>ATR</th>\n",
       "      <th>ATR/Close</th>\n",
       "    </tr>\n",
       "    <tr>\n",
       "      <th>Date</th>\n",
       "      <th></th>\n",
       "      <th></th>\n",
       "      <th></th>\n",
       "    </tr>\n",
       "  </thead>\n",
       "  <tbody>\n",
       "    <tr>\n",
       "      <th>2003-02-10 00:00:00-05:00</th>\n",
       "      <td>84.010002</td>\n",
       "      <td>NaN</td>\n",
       "      <td>NaN</td>\n",
       "    </tr>\n",
       "    <tr>\n",
       "      <th>2003-02-11 00:00:00-05:00</th>\n",
       "      <td>83.430000</td>\n",
       "      <td>NaN</td>\n",
       "      <td>NaN</td>\n",
       "    </tr>\n",
       "    <tr>\n",
       "      <th>2003-02-12 00:00:00-05:00</th>\n",
       "      <td>82.099998</td>\n",
       "      <td>NaN</td>\n",
       "      <td>NaN</td>\n",
       "    </tr>\n",
       "    <tr>\n",
       "      <th>2003-02-13 00:00:00-05:00</th>\n",
       "      <td>82.349998</td>\n",
       "      <td>NaN</td>\n",
       "      <td>NaN</td>\n",
       "    </tr>\n",
       "    <tr>\n",
       "      <th>2003-02-14 00:00:00-05:00</th>\n",
       "      <td>84.150002</td>\n",
       "      <td>NaN</td>\n",
       "      <td>NaN</td>\n",
       "    </tr>\n",
       "    <tr>\n",
       "      <th>...</th>\n",
       "      <td>...</td>\n",
       "      <td>...</td>\n",
       "      <td>...</td>\n",
       "    </tr>\n",
       "    <tr>\n",
       "      <th>2023-02-03 00:00:00-05:00</th>\n",
       "      <td>412.350006</td>\n",
       "      <td>6.224287</td>\n",
       "      <td>0.014934</td>\n",
       "    </tr>\n",
       "    <tr>\n",
       "      <th>2023-02-06 00:00:00-05:00</th>\n",
       "      <td>409.829987</td>\n",
       "      <td>6.301429</td>\n",
       "      <td>0.015282</td>\n",
       "    </tr>\n",
       "    <tr>\n",
       "      <th>2023-02-07 00:00:00-05:00</th>\n",
       "      <td>415.190002</td>\n",
       "      <td>6.307142</td>\n",
       "      <td>0.015390</td>\n",
       "    </tr>\n",
       "    <tr>\n",
       "      <th>2023-02-08 00:00:00-05:00</th>\n",
       "      <td>410.649994</td>\n",
       "      <td>6.380716</td>\n",
       "      <td>0.015368</td>\n",
       "    </tr>\n",
       "    <tr>\n",
       "      <th>2023-02-09 00:00:00-05:00</th>\n",
       "      <td>407.089996</td>\n",
       "      <td>6.459287</td>\n",
       "      <td>0.015729</td>\n",
       "    </tr>\n",
       "  </tbody>\n",
       "</table>\n",
       "<p>5036 rows × 3 columns</p>\n",
       "</div>"
      ],
      "text/plain": [
       "                                Close       ATR  ATR/Close\n",
       "Date                                                      \n",
       "2003-02-10 00:00:00-05:00   84.010002       NaN        NaN\n",
       "2003-02-11 00:00:00-05:00   83.430000       NaN        NaN\n",
       "2003-02-12 00:00:00-05:00   82.099998       NaN        NaN\n",
       "2003-02-13 00:00:00-05:00   82.349998       NaN        NaN\n",
       "2003-02-14 00:00:00-05:00   84.150002       NaN        NaN\n",
       "...                               ...       ...        ...\n",
       "2023-02-03 00:00:00-05:00  412.350006  6.224287   0.014934\n",
       "2023-02-06 00:00:00-05:00  409.829987  6.301429   0.015282\n",
       "2023-02-07 00:00:00-05:00  415.190002  6.307142   0.015390\n",
       "2023-02-08 00:00:00-05:00  410.649994  6.380716   0.015368\n",
       "2023-02-09 00:00:00-05:00  407.089996  6.459287   0.015729\n",
       "\n",
       "[5036 rows x 3 columns]"
      ]
     },
     "execution_count": 20,
     "metadata": {},
     "output_type": "execute_result"
    }
   ],
   "source": [
    "close_atr['ATR/Close'] = close_atr['ATR'] / close_atr['Close'].shift()\n",
    "close_atr"
   ]
  },
  {
   "cell_type": "code",
   "execution_count": 21,
   "id": "63896586-9236-4fa0-bdf0-23ee70f03f52",
   "metadata": {},
   "outputs": [
    {
     "data": {
      "text/plain": [
       "<AxesSubplot:xlabel='Date'>"
      ]
     },
     "execution_count": 21,
     "metadata": {},
     "output_type": "execute_result"
    },
    {
     "data": {
      "image/png": "[encoded data removed]",
      "text/plain": [
       "<Figure size 432x288 with 1 Axes>"
      ]
     },
     "metadata": {
      "needs_background": "light"
     },
     "output_type": "display_data"
    }
   ],
   "source": [
    "atr_volatility = close_atr['ATR/Close'] * np.sqrt(252)\n",
    "atr_volatility.plot()"
   ]
  },
  {
   "cell_type": "markdown",
   "id": "538bde7a-6c63-4370-8f43-758b6fab1dd0",
   "metadata": {},
   "source": [
    "### Range"
   ]
  },
  {
   "cell_type": "code",
   "execution_count": 23,
   "id": "1ca41f48-7c39-4d4a-bffa-e9f00cfbc2a0",
   "metadata": {},
   "outputs": [
    {
     "data": {
      "text/html": [
       "<div>\n",
       "<style scoped>\n",
       "    .dataframe tbody tr th:only-of-type {\n",
       "        vertical-align: middle;\n",
       "    }\n",
       "\n",
       "    .dataframe tbody tr th {\n",
       "        vertical-align: top;\n",
       "    }\n",
       "\n",
       "    .dataframe thead th {\n",
       "        text-align: right;\n",
       "    }\n",
       "</style>\n",
       "<table border=\"1\" class=\"dataframe\">\n",
       "  <thead>\n",
       "    <tr style=\"text-align: right;\">\n",
       "      <th></th>\n",
       "      <th>Open</th>\n",
       "      <th>Range Daily</th>\n",
       "    </tr>\n",
       "    <tr>\n",
       "      <th>Date</th>\n",
       "      <th></th>\n",
       "      <th></th>\n",
       "    </tr>\n",
       "  </thead>\n",
       "  <tbody>\n",
       "    <tr>\n",
       "      <th>2023-02-03 00:00:00-05:00</th>\n",
       "      <td>411.589996</td>\n",
       "      <td>5.880005</td>\n",
       "    </tr>\n",
       "    <tr>\n",
       "      <th>2023-02-06 00:00:00-05:00</th>\n",
       "      <td>409.790009</td>\n",
       "      <td>3.190002</td>\n",
       "    </tr>\n",
       "    <tr>\n",
       "      <th>2023-02-07 00:00:00-05:00</th>\n",
       "      <td>408.869995</td>\n",
       "      <td>8.919983</td>\n",
       "    </tr>\n",
       "    <tr>\n",
       "      <th>2023-02-08 00:00:00-05:00</th>\n",
       "      <td>413.130005</td>\n",
       "      <td>4.600006</td>\n",
       "    </tr>\n",
       "    <tr>\n",
       "      <th>2023-02-09 00:00:00-05:00</th>\n",
       "      <td>414.410004</td>\n",
       "      <td>8.760010</td>\n",
       "    </tr>\n",
       "  </tbody>\n",
       "</table>\n",
       "</div>"
      ],
      "text/plain": [
       "                                 Open  Range Daily\n",
       "Date                                              \n",
       "2023-02-03 00:00:00-05:00  411.589996     5.880005\n",
       "2023-02-06 00:00:00-05:00  409.790009     3.190002\n",
       "2023-02-07 00:00:00-05:00  408.869995     8.919983\n",
       "2023-02-08 00:00:00-05:00  413.130005     4.600006\n",
       "2023-02-09 00:00:00-05:00  414.410004     8.760010"
      ]
     },
     "execution_count": 23,
     "metadata": {},
     "output_type": "execute_result"
    }
   ],
   "source": [
    "range_high_low = pd.concat([spy['Open'], high_low], axis = 1, keys= ['Open', 'Range Daily'])\n",
    "range_high_low.tail()  "
   ]
  },
  {
   "cell_type": "code",
   "execution_count": 24,
   "id": "d5fef8fc-b634-4be1-acab-0986dc90a66f",
   "metadata": {},
   "outputs": [
    {
     "data": {
      "text/html": [
       "<div>\n",
       "<style scoped>\n",
       "    .dataframe tbody tr th:only-of-type {\n",
       "        vertical-align: middle;\n",
       "    }\n",
       "\n",
       "    .dataframe tbody tr th {\n",
       "        vertical-align: top;\n",
       "    }\n",
       "\n",
       "    .dataframe thead th {\n",
       "        text-align: right;\n",
       "    }\n",
       "</style>\n",
       "<table border=\"1\" class=\"dataframe\">\n",
       "  <thead>\n",
       "    <tr style=\"text-align: right;\">\n",
       "      <th></th>\n",
       "      <th>Open</th>\n",
       "      <th>Range Daily</th>\n",
       "      <th>Range/Open</th>\n",
       "    </tr>\n",
       "    <tr>\n",
       "      <th>Date</th>\n",
       "      <th></th>\n",
       "      <th></th>\n",
       "      <th></th>\n",
       "    </tr>\n",
       "  </thead>\n",
       "  <tbody>\n",
       "    <tr>\n",
       "      <th>2003-02-10 00:00:00-05:00</th>\n",
       "      <td>83.459999</td>\n",
       "      <td>1.479996</td>\n",
       "      <td>0.017733</td>\n",
       "    </tr>\n",
       "    <tr>\n",
       "      <th>2003-02-11 00:00:00-05:00</th>\n",
       "      <td>84.370003</td>\n",
       "      <td>2.049995</td>\n",
       "      <td>0.024298</td>\n",
       "    </tr>\n",
       "    <tr>\n",
       "      <th>2003-02-12 00:00:00-05:00</th>\n",
       "      <td>83.160004</td>\n",
       "      <td>1.530006</td>\n",
       "      <td>0.018398</td>\n",
       "    </tr>\n",
       "    <tr>\n",
       "      <th>2003-02-13 00:00:00-05:00</th>\n",
       "      <td>82.150002</td>\n",
       "      <td>1.660004</td>\n",
       "      <td>0.020207</td>\n",
       "    </tr>\n",
       "    <tr>\n",
       "      <th>2003-02-14 00:00:00-05:00</th>\n",
       "      <td>82.370003</td>\n",
       "      <td>2.379997</td>\n",
       "      <td>0.028894</td>\n",
       "    </tr>\n",
       "    <tr>\n",
       "      <th>...</th>\n",
       "      <td>...</td>\n",
       "      <td>...</td>\n",
       "      <td>...</td>\n",
       "    </tr>\n",
       "    <tr>\n",
       "      <th>2023-02-03 00:00:00-05:00</th>\n",
       "      <td>411.589996</td>\n",
       "      <td>5.880005</td>\n",
       "      <td>0.014286</td>\n",
       "    </tr>\n",
       "    <tr>\n",
       "      <th>2023-02-06 00:00:00-05:00</th>\n",
       "      <td>409.790009</td>\n",
       "      <td>3.190002</td>\n",
       "      <td>0.007784</td>\n",
       "    </tr>\n",
       "    <tr>\n",
       "      <th>2023-02-07 00:00:00-05:00</th>\n",
       "      <td>408.869995</td>\n",
       "      <td>8.919983</td>\n",
       "      <td>0.021816</td>\n",
       "    </tr>\n",
       "    <tr>\n",
       "      <th>2023-02-08 00:00:00-05:00</th>\n",
       "      <td>413.130005</td>\n",
       "      <td>4.600006</td>\n",
       "      <td>0.011135</td>\n",
       "    </tr>\n",
       "    <tr>\n",
       "      <th>2023-02-09 00:00:00-05:00</th>\n",
       "      <td>414.410004</td>\n",
       "      <td>8.760010</td>\n",
       "      <td>0.021139</td>\n",
       "    </tr>\n",
       "  </tbody>\n",
       "</table>\n",
       "<p>5036 rows × 3 columns</p>\n",
       "</div>"
      ],
      "text/plain": [
       "                                 Open  Range Daily  Range/Open\n",
       "Date                                                          \n",
       "2003-02-10 00:00:00-05:00   83.459999     1.479996    0.017733\n",
       "2003-02-11 00:00:00-05:00   84.370003     2.049995    0.024298\n",
       "2003-02-12 00:00:00-05:00   83.160004     1.530006    0.018398\n",
       "2003-02-13 00:00:00-05:00   82.150002     1.660004    0.020207\n",
       "2003-02-14 00:00:00-05:00   82.370003     2.379997    0.028894\n",
       "...                               ...          ...         ...\n",
       "2023-02-03 00:00:00-05:00  411.589996     5.880005    0.014286\n",
       "2023-02-06 00:00:00-05:00  409.790009     3.190002    0.007784\n",
       "2023-02-07 00:00:00-05:00  408.869995     8.919983    0.021816\n",
       "2023-02-08 00:00:00-05:00  413.130005     4.600006    0.011135\n",
       "2023-02-09 00:00:00-05:00  414.410004     8.760010    0.021139\n",
       "\n",
       "[5036 rows x 3 columns]"
      ]
     },
     "execution_count": 24,
     "metadata": {},
     "output_type": "execute_result"
    }
   ],
   "source": [
    "range_high_low['Range/Open'] = range_high_low['Range Daily'] / range_high_low['Open']\n",
    "range_high_low"
   ]
  },
  {
   "cell_type": "code",
   "execution_count": 27,
   "id": "f9f4aa33-d7d0-44de-8ee6-cb5ce3085fd1",
   "metadata": {},
   "outputs": [
    {
     "data": {
      "text/plain": [
       "<AxesSubplot:xlabel='Date'>"
      ]
     },
     "execution_count": 27,
     "metadata": {},
     "output_type": "execute_result"
    },
    {
     "data": {
      "image/png": "[encoded data removed]",
      "text/plain": [
       "<Figure size 432x288 with 1 Axes>"
      ]
     },
     "metadata": {
      "needs_background": "light"
     },
     "output_type": "display_data"
    }
   ],
   "source": [
    "range_high_low['Range/Open'].plot()"
   ]
  },
  {
   "cell_type": "code",
   "execution_count": 28,
   "id": "cece99a5-1b0e-47b9-9fb0-65db209e37e8",
   "metadata": {},
   "outputs": [
    {
     "data": {
      "text/plain": [
       "count    5036.000000\n",
       "mean        0.012602\n",
       "std         0.010255\n",
       "min         0.001229\n",
       "25%         0.006616\n",
       "50%         0.009859\n",
       "75%         0.015021\n",
       "max         0.121445\n",
       "Name: Range/Open, dtype: float64"
      ]
     },
     "execution_count": 28,
     "metadata": {},
     "output_type": "execute_result"
    }
   ],
   "source": [
    "range_high_low['Range/Open'].describe()"
   ]
  },
  {
   "cell_type": "code",
   "execution_count": 31,
   "id": "bedb0af2-f2fe-4e72-bac7-285bb3ade158",
   "metadata": {},
   "outputs": [
    {
     "data": {
      "text/plain": [
       "count    5036.000000\n",
       "mean        0.200044\n",
       "std         0.162794\n",
       "min         0.019514\n",
       "25%         0.105033\n",
       "50%         0.156503\n",
       "75%         0.238454\n",
       "max         1.927873\n",
       "Name: Range/Open, dtype: float64"
      ]
     },
     "execution_count": 31,
     "metadata": {},
     "output_type": "execute_result"
    }
   ],
   "source": [
    "range_annualized = range_high_low['Range/Open'] * np.sqrt(252)\n",
    "range_annualized.describe()"
   ]
  },
  {
   "cell_type": "code",
   "execution_count": null,
   "id": "5351ec6e-91f2-400f-83b0-67143a234032",
   "metadata": {},
   "outputs": [],
   "source": []
  }
 ],
 "metadata": {
  "kernelspec": {
   "display_name": "Python 3 (ipykernel)",
   "language": "python",
   "name": "python3"
  },
  "language_info": {
   "codemirror_mode": {
    "name": "ipython",
    "version": 3
   },
   "file_extension": ".py",
   "mimetype": "text/x-python",
   "name": "python",
   "nbconvert_exporter": "python",
   "pygments_lexer": "ipython3",
   "version": "3.9.12"
  }
 },
 "nbformat": 4,
 "nbformat_minor": 5
}
