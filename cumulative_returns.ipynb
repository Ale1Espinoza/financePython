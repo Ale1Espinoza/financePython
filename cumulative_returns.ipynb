{
 "cells": [
  {
   "cell_type": "markdown",
   "id": "1d682830-ec99-4958-bfe9-fd3ee9cffee1",
   "metadata": {},
   "source": [
    "# RETORNO ACUMULADO\n",
    "Una tremenda forma para comparar el desempeño de dos activos es poner sobre la mesa el retorno acumulado de ambos. Para poner en práctica el cálculo del retorno acumulado se utilizarán dos empresas completamente distintas: Alphabet y Texas RoadHouse."
   ]
  },
  {
   "cell_type": "code",
   "execution_count": 20,
   "id": "6212c42e-c33e-4545-9c2e-bef8db525195",
   "metadata": {},
   "outputs": [],
   "source": [
    "# librerias indispensables para trabajar\n",
    "import numpy as np\n",
    "import pandas as pd\n",
    "import datetime as dt\n",
    "from pandas_datareader import data as pdr\n",
    "import yfinance as yf\n",
    "yf.pdr_override()\n",
    "\n",
    "import matplotlib.pyplot as plt\n",
    "%matplotlib inline"
   ]
  },
  {
   "cell_type": "code",
   "execution_count": 29,
   "id": "30ad287c-edcf-4f90-91fa-f7c7abef56b1",
   "metadata": {},
   "outputs": [],
   "source": [
    "# definimos un rango de fecha\n",
    "start = dt.datetime(2017,3,20)\n",
    "end = dt.datetime.now()"
   ]
  },
  {
   "cell_type": "code",
   "execution_count": 30,
   "id": "2d4438f5-bd6a-408e-8fb7-42980f196248",
   "metadata": {},
   "outputs": [
    {
     "name": "stdout",
     "output_type": "stream",
     "text": [
      "[*********************100%***********************]  2 of 2 completed\n"
     ]
    },
    {
     "data": {
      "text/html": [
       "<div>\n",
       "<style scoped>\n",
       "    .dataframe tbody tr th:only-of-type {\n",
       "        vertical-align: middle;\n",
       "    }\n",
       "\n",
       "    .dataframe tbody tr th {\n",
       "        vertical-align: top;\n",
       "    }\n",
       "\n",
       "    .dataframe thead th {\n",
       "        text-align: right;\n",
       "    }\n",
       "</style>\n",
       "<table border=\"1\" class=\"dataframe\">\n",
       "  <thead>\n",
       "    <tr style=\"text-align: right;\">\n",
       "      <th></th>\n",
       "      <th>GOOGL</th>\n",
       "      <th>TXRH</th>\n",
       "    </tr>\n",
       "    <tr>\n",
       "      <th>Date</th>\n",
       "      <th></th>\n",
       "      <th></th>\n",
       "    </tr>\n",
       "  </thead>\n",
       "  <tbody>\n",
       "    <tr>\n",
       "      <th>2017-03-20 00:00:00-04:00</th>\n",
       "      <td>43.395500</td>\n",
       "      <td>43.919998</td>\n",
       "    </tr>\n",
       "    <tr>\n",
       "      <th>2017-03-21 00:00:00-04:00</th>\n",
       "      <td>42.507000</td>\n",
       "      <td>43.259998</td>\n",
       "    </tr>\n",
       "    <tr>\n",
       "      <th>2017-03-22 00:00:00-04:00</th>\n",
       "      <td>42.490002</td>\n",
       "      <td>43.230000</td>\n",
       "    </tr>\n",
       "    <tr>\n",
       "      <th>2017-03-23 00:00:00-04:00</th>\n",
       "      <td>41.982498</td>\n",
       "      <td>43.529999</td>\n",
       "    </tr>\n",
       "    <tr>\n",
       "      <th>2017-03-24 00:00:00-04:00</th>\n",
       "      <td>41.757000</td>\n",
       "      <td>43.529999</td>\n",
       "    </tr>\n",
       "  </tbody>\n",
       "</table>\n",
       "</div>"
      ],
      "text/plain": [
       "                               GOOGL       TXRH\n",
       "Date                                           \n",
       "2017-03-20 00:00:00-04:00  43.395500  43.919998\n",
       "2017-03-21 00:00:00-04:00  42.507000  43.259998\n",
       "2017-03-22 00:00:00-04:00  42.490002  43.230000\n",
       "2017-03-23 00:00:00-04:00  41.982498  43.529999\n",
       "2017-03-24 00:00:00-04:00  41.757000  43.529999"
      ]
     },
     "execution_count": 30,
     "metadata": {},
     "output_type": "execute_result"
    }
   ],
   "source": [
    "# obteniendo precio de cierre de ambos activos\n",
    "stocks = ['TXRH', 'GOOGL']\n",
    "close_price = pdr.get_data_yahoo(stocks, start, end)['Close']\n",
    "close_price.head()"
   ]
  },
  {
   "cell_type": "code",
   "execution_count": 31,
   "id": "a5a4ec0a-6c0c-4411-900b-9d8344ec4893",
   "metadata": {},
   "outputs": [
    {
     "data": {
      "text/html": [
       "<div>\n",
       "<style scoped>\n",
       "    .dataframe tbody tr th:only-of-type {\n",
       "        vertical-align: middle;\n",
       "    }\n",
       "\n",
       "    .dataframe tbody tr th {\n",
       "        vertical-align: top;\n",
       "    }\n",
       "\n",
       "    .dataframe thead th {\n",
       "        text-align: right;\n",
       "    }\n",
       "</style>\n",
       "<table border=\"1\" class=\"dataframe\">\n",
       "  <thead>\n",
       "    <tr style=\"text-align: right;\">\n",
       "      <th></th>\n",
       "      <th>GOOGL</th>\n",
       "      <th>TXRH</th>\n",
       "    </tr>\n",
       "    <tr>\n",
       "      <th>Date</th>\n",
       "      <th></th>\n",
       "      <th></th>\n",
       "    </tr>\n",
       "  </thead>\n",
       "  <tbody>\n",
       "    <tr>\n",
       "      <th>2023-03-14 00:00:00-04:00</th>\n",
       "      <td>0.031391</td>\n",
       "      <td>0.018104</td>\n",
       "    </tr>\n",
       "    <tr>\n",
       "      <th>2023-03-15 00:00:00-04:00</th>\n",
       "      <td>0.022773</td>\n",
       "      <td>0.000860</td>\n",
       "    </tr>\n",
       "    <tr>\n",
       "      <th>2023-03-16 00:00:00-04:00</th>\n",
       "      <td>0.043804</td>\n",
       "      <td>0.031808</td>\n",
       "    </tr>\n",
       "    <tr>\n",
       "      <th>2023-03-17 00:00:00-04:00</th>\n",
       "      <td>0.012959</td>\n",
       "      <td>-0.024995</td>\n",
       "    </tr>\n",
       "    <tr>\n",
       "      <th>2023-03-20 00:00:00-04:00</th>\n",
       "      <td>-0.012498</td>\n",
       "      <td>0.019370</td>\n",
       "    </tr>\n",
       "  </tbody>\n",
       "</table>\n",
       "</div>"
      ],
      "text/plain": [
       "                              GOOGL      TXRH\n",
       "Date                                         \n",
       "2023-03-14 00:00:00-04:00  0.031391  0.018104\n",
       "2023-03-15 00:00:00-04:00  0.022773  0.000860\n",
       "2023-03-16 00:00:00-04:00  0.043804  0.031808\n",
       "2023-03-17 00:00:00-04:00  0.012959 -0.024995\n",
       "2023-03-20 00:00:00-04:00 -0.012498  0.019370"
      ]
     },
     "execution_count": 31,
     "metadata": {},
     "output_type": "execute_result"
    }
   ],
   "source": [
    "# nos interesa el retorno diario, para luego calcular el retorno acumulado\n",
    "returns = close_price.pct_change()\n",
    "returns.tail()"
   ]
  },
  {
   "cell_type": "code",
   "execution_count": 32,
   "id": "2be57fcc-e255-4f0c-83f0-d4e10e9ac257",
   "metadata": {},
   "outputs": [
    {
     "data": {
      "text/html": [
       "<div>\n",
       "<style scoped>\n",
       "    .dataframe tbody tr th:only-of-type {\n",
       "        vertical-align: middle;\n",
       "    }\n",
       "\n",
       "    .dataframe tbody tr th {\n",
       "        vertical-align: top;\n",
       "    }\n",
       "\n",
       "    .dataframe thead th {\n",
       "        text-align: right;\n",
       "    }\n",
       "</style>\n",
       "<table border=\"1\" class=\"dataframe\">\n",
       "  <thead>\n",
       "    <tr style=\"text-align: right;\">\n",
       "      <th></th>\n",
       "      <th>GOOGL</th>\n",
       "      <th>TXRH</th>\n",
       "    </tr>\n",
       "    <tr>\n",
       "      <th>Date</th>\n",
       "      <th></th>\n",
       "      <th></th>\n",
       "    </tr>\n",
       "  </thead>\n",
       "  <tbody>\n",
       "    <tr>\n",
       "      <th>2023-03-14 00:00:00-04:00</th>\n",
       "      <td>1.165432</td>\n",
       "      <td>1.381603</td>\n",
       "    </tr>\n",
       "    <tr>\n",
       "      <th>2023-03-15 00:00:00-04:00</th>\n",
       "      <td>1.214746</td>\n",
       "      <td>1.383652</td>\n",
       "    </tr>\n",
       "    <tr>\n",
       "      <th>2023-03-16 00:00:00-04:00</th>\n",
       "      <td>1.311760</td>\n",
       "      <td>1.459472</td>\n",
       "    </tr>\n",
       "    <tr>\n",
       "      <th>2023-03-17 00:00:00-04:00</th>\n",
       "      <td>1.341718</td>\n",
       "      <td>1.397996</td>\n",
       "    </tr>\n",
       "    <tr>\n",
       "      <th>2023-03-20 00:00:00-04:00</th>\n",
       "      <td>1.312452</td>\n",
       "      <td>1.444445</td>\n",
       "    </tr>\n",
       "  </tbody>\n",
       "</table>\n",
       "</div>"
      ],
      "text/plain": [
       "                              GOOGL      TXRH\n",
       "Date                                         \n",
       "2023-03-14 00:00:00-04:00  1.165432  1.381603\n",
       "2023-03-15 00:00:00-04:00  1.214746  1.383652\n",
       "2023-03-16 00:00:00-04:00  1.311760  1.459472\n",
       "2023-03-17 00:00:00-04:00  1.341718  1.397996\n",
       "2023-03-20 00:00:00-04:00  1.312452  1.444445"
      ]
     },
     "execution_count": 32,
     "metadata": {},
     "output_type": "execute_result"
    }
   ],
   "source": [
    "# calculando retorno acumulado\n",
    "acumulative_returns = (1+returns).cumprod()-1\n",
    "acumulative_returns.tail()"
   ]
  },
  {
   "cell_type": "markdown",
   "id": "46ec0854-9b67-495f-9913-25714f082599",
   "metadata": {},
   "source": [
    "En estos 4 años, un restaurante especializado en carne asada, con un market cap al 20/3/23 de $7,185 millones, generó un rendimiento superior que Alphabet, un gigante técnológico valorado por sobre el trillón de USD."
   ]
  },
  {
   "cell_type": "code",
   "execution_count": 33,
   "id": "578604d9-29c2-45fd-830e-a0c28c318de1",
   "metadata": {},
   "outputs": [
    {
     "data": {
      "image/png": "[encoded data removed]",
      "text/plain": [
       "<Figure size 864x432 with 1 Axes>"
      ]
     },
     "metadata": {
      "needs_background": "light"
     },
     "output_type": "display_data"
    }
   ],
   "source": [
    "# a graficar la data\n",
    "googl = acumulative_returns['GOOGL']\n",
    "txrh = acumulative_returns['TXRH']\n",
    "\n",
    "plt.figure(figsize=(12, 6)) # tamaño del gráfico\n",
    "plt.plot(googl, label='GOOGL')\n",
    "plt.plot(txrh, label='TXRH')\n",
    "\n",
    "plt.title('GOOGL v/s TXRH', fontsize=15) # título\n",
    "plt.ylabel('Acumulative Return', fontsize=12) # etiqueta eje y\n",
    "plt.xlabel('Years', fontsize=12) # etiqueta eje x\n",
    "plt.legend(loc=2, fontsize=12) \n",
    "plt.grid() # cuadrículas\n",
    "plt.show()"
   ]
  },
  {
   "cell_type": "code",
   "execution_count": null,
   "id": "c0659ae5-562f-4848-9354-f32b28d582b5",
   "metadata": {},
   "outputs": [],
   "source": []
  },
  {
   "cell_type": "code",
   "execution_count": null,
   "id": "881c30e4-00b9-4bf7-b96f-c3123c157459",
   "metadata": {},
   "outputs": [],
   "source": []
  }
 ],
 "metadata": {
  "kernelspec": {
   "display_name": "Python 3 (ipykernel)",
   "language": "python",
   "name": "python3"
  },
  "language_info": {
   "codemirror_mode": {
    "name": "ipython",
    "version": 3
   },
   "file_extension": ".py",
   "mimetype": "text/x-python",
   "name": "python",
   "nbconvert_exporter": "python",
   "pygments_lexer": "ipython3",
   "version": "3.9.12"
  }
 },
 "nbformat": 4,
 "nbformat_minor": 5
}
