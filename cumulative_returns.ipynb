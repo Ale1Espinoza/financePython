{
 "cells": [
  {
   "cell_type": "markdown",
   "id": "1d682830-ec99-4958-bfe9-fd3ee9cffee1",
   "metadata": {},
   "source": [
    "## Retorno Acumulado\n",
    "Una tremenda forma para comparar el desempeño de dos activos es poner sobre la mesa el retorno acumulado de ambos. Para poner en práctica el cálculo del retorno acumulado se utilizarán dos empresas completamente distintas: Alphabet y Texas RoadHouse."
   ]
  },
  {
   "cell_type": "code",
   "execution_count": 42,
   "id": "6212c42e-c33e-4545-9c2e-bef8db525195",
   "metadata": {},
   "outputs": [],
   "source": [
    "# librerias indispensables para trabajar\n",
    "import pandas as pd\n",
    "import datetime as dt\n",
    "import yfinance as yf\n",
    "from pandas_datareader import data as pdr\n",
    "yf.pdr_override()"
   ]
  },
  {
   "cell_type": "code",
   "execution_count": 43,
   "id": "30ad287c-edcf-4f90-91fa-f7c7abef56b1",
   "metadata": {},
   "outputs": [],
   "source": [
    "# definimos un rango de fecha\n",
    "start = dt.datetime(2017,3,22)\n",
    "end = dt.datetime.now()"
   ]
  },
  {
   "cell_type": "code",
   "execution_count": 44,
   "id": "2d4438f5-bd6a-408e-8fb7-42980f196248",
   "metadata": {},
   "outputs": [
    {
     "name": "stdout",
     "output_type": "stream",
     "text": [
      "[*********************100%***********************]  2 of 2 completed\n"
     ]
    },
    {
     "data": {
      "text/html": [
       "<div>\n",
       "<style scoped>\n",
       "    .dataframe tbody tr th:only-of-type {\n",
       "        vertical-align: middle;\n",
       "    }\n",
       "\n",
       "    .dataframe tbody tr th {\n",
       "        vertical-align: top;\n",
       "    }\n",
       "\n",
       "    .dataframe thead th {\n",
       "        text-align: right;\n",
       "    }\n",
       "</style>\n",
       "<table border=\"1\" class=\"dataframe\">\n",
       "  <thead>\n",
       "    <tr style=\"text-align: right;\">\n",
       "      <th></th>\n",
       "      <th>GOOGL</th>\n",
       "      <th>TXRH</th>\n",
       "    </tr>\n",
       "    <tr>\n",
       "      <th>Date</th>\n",
       "      <th></th>\n",
       "      <th></th>\n",
       "    </tr>\n",
       "  </thead>\n",
       "  <tbody>\n",
       "    <tr>\n",
       "      <th>2017-03-22 00:00:00-04:00</th>\n",
       "      <td>42.490002</td>\n",
       "      <td>43.230000</td>\n",
       "    </tr>\n",
       "    <tr>\n",
       "      <th>2017-03-23 00:00:00-04:00</th>\n",
       "      <td>41.982498</td>\n",
       "      <td>43.529999</td>\n",
       "    </tr>\n",
       "    <tr>\n",
       "      <th>2017-03-24 00:00:00-04:00</th>\n",
       "      <td>41.757000</td>\n",
       "      <td>43.529999</td>\n",
       "    </tr>\n",
       "    <tr>\n",
       "      <th>2017-03-27 00:00:00-04:00</th>\n",
       "      <td>41.925499</td>\n",
       "      <td>43.270000</td>\n",
       "    </tr>\n",
       "    <tr>\n",
       "      <th>2017-03-28 00:00:00-04:00</th>\n",
       "      <td>42.031502</td>\n",
       "      <td>44.139999</td>\n",
       "    </tr>\n",
       "  </tbody>\n",
       "</table>\n",
       "</div>"
      ],
      "text/plain": [
       "                               GOOGL       TXRH\n",
       "Date                                           \n",
       "2017-03-22 00:00:00-04:00  42.490002  43.230000\n",
       "2017-03-23 00:00:00-04:00  41.982498  43.529999\n",
       "2017-03-24 00:00:00-04:00  41.757000  43.529999\n",
       "2017-03-27 00:00:00-04:00  41.925499  43.270000\n",
       "2017-03-28 00:00:00-04:00  42.031502  44.139999"
      ]
     },
     "execution_count": 44,
     "metadata": {},
     "output_type": "execute_result"
    }
   ],
   "source": [
    "# obteniendo precio de cierre de ambos activos\n",
    "stocks = ['TXRH', 'GOOGL']\n",
    "close_price = pdr.get_data_yahoo(stocks, start, end)['Close']\n",
    "close_price.head()"
   ]
  },
  {
   "cell_type": "code",
   "execution_count": 45,
   "id": "a5a4ec0a-6c0c-4411-900b-9d8344ec4893",
   "metadata": {},
   "outputs": [
    {
     "data": {
      "text/html": [
       "<div>\n",
       "<style scoped>\n",
       "    .dataframe tbody tr th:only-of-type {\n",
       "        vertical-align: middle;\n",
       "    }\n",
       "\n",
       "    .dataframe tbody tr th {\n",
       "        vertical-align: top;\n",
       "    }\n",
       "\n",
       "    .dataframe thead th {\n",
       "        text-align: right;\n",
       "    }\n",
       "</style>\n",
       "<table border=\"1\" class=\"dataframe\">\n",
       "  <thead>\n",
       "    <tr style=\"text-align: right;\">\n",
       "      <th></th>\n",
       "      <th>GOOGL</th>\n",
       "      <th>TXRH</th>\n",
       "    </tr>\n",
       "    <tr>\n",
       "      <th>Date</th>\n",
       "      <th></th>\n",
       "      <th></th>\n",
       "    </tr>\n",
       "  </thead>\n",
       "  <tbody>\n",
       "    <tr>\n",
       "      <th>2023-03-16 00:00:00-04:00</th>\n",
       "      <td>0.043804</td>\n",
       "      <td>0.031808</td>\n",
       "    </tr>\n",
       "    <tr>\n",
       "      <th>2023-03-17 00:00:00-04:00</th>\n",
       "      <td>0.012959</td>\n",
       "      <td>-0.024995</td>\n",
       "    </tr>\n",
       "    <tr>\n",
       "      <th>2023-03-20 00:00:00-04:00</th>\n",
       "      <td>-0.003936</td>\n",
       "      <td>0.009020</td>\n",
       "    </tr>\n",
       "    <tr>\n",
       "      <th>2023-03-21 00:00:00-04:00</th>\n",
       "      <td>0.036554</td>\n",
       "      <td>0.001223</td>\n",
       "    </tr>\n",
       "    <tr>\n",
       "      <th>2023-03-22 00:00:00-04:00</th>\n",
       "      <td>-0.014773</td>\n",
       "      <td>-0.001316</td>\n",
       "    </tr>\n",
       "  </tbody>\n",
       "</table>\n",
       "</div>"
      ],
      "text/plain": [
       "                              GOOGL      TXRH\n",
       "Date                                         \n",
       "2023-03-16 00:00:00-04:00  0.043804  0.031808\n",
       "2023-03-17 00:00:00-04:00  0.012959 -0.024995\n",
       "2023-03-20 00:00:00-04:00 -0.003936  0.009020\n",
       "2023-03-21 00:00:00-04:00  0.036554  0.001223\n",
       "2023-03-22 00:00:00-04:00 -0.014773 -0.001316"
      ]
     },
     "execution_count": 45,
     "metadata": {},
     "output_type": "execute_result"
    }
   ],
   "source": [
    "# nos interesa el retorno diario, para luego calcular el retorno acumulado\n",
    "returns = close_price.pct_change()\n",
    "returns.tail()"
   ]
  },
  {
   "cell_type": "code",
   "execution_count": 46,
   "id": "2be57fcc-e255-4f0c-83f0-d4e10e9ac257",
   "metadata": {},
   "outputs": [
    {
     "data": {
      "text/html": [
       "<div>\n",
       "<style scoped>\n",
       "    .dataframe tbody tr th:only-of-type {\n",
       "        vertical-align: middle;\n",
       "    }\n",
       "\n",
       "    .dataframe tbody tr th {\n",
       "        vertical-align: top;\n",
       "    }\n",
       "\n",
       "    .dataframe thead th {\n",
       "        text-align: right;\n",
       "    }\n",
       "</style>\n",
       "<table border=\"1\" class=\"dataframe\">\n",
       "  <thead>\n",
       "    <tr style=\"text-align: right;\">\n",
       "      <th></th>\n",
       "      <th>GOOGL</th>\n",
       "      <th>TXRH</th>\n",
       "    </tr>\n",
       "    <tr>\n",
       "      <th>Date</th>\n",
       "      <th></th>\n",
       "      <th></th>\n",
       "    </tr>\n",
       "  </thead>\n",
       "  <tbody>\n",
       "    <tr>\n",
       "      <th>2023-03-16 00:00:00-04:00</th>\n",
       "      <td>1.361026</td>\n",
       "      <td>1.498728</td>\n",
       "    </tr>\n",
       "    <tr>\n",
       "      <th>2023-03-17 00:00:00-04:00</th>\n",
       "      <td>1.391622</td>\n",
       "      <td>1.436271</td>\n",
       "    </tr>\n",
       "    <tr>\n",
       "      <th>2023-03-20 00:00:00-04:00</th>\n",
       "      <td>1.382208</td>\n",
       "      <td>1.458247</td>\n",
       "    </tr>\n",
       "    <tr>\n",
       "      <th>2023-03-21 00:00:00-04:00</th>\n",
       "      <td>1.469287</td>\n",
       "      <td>1.461254</td>\n",
       "    </tr>\n",
       "    <tr>\n",
       "      <th>2023-03-22 00:00:00-04:00</th>\n",
       "      <td>1.432808</td>\n",
       "      <td>1.458015</td>\n",
       "    </tr>\n",
       "  </tbody>\n",
       "</table>\n",
       "</div>"
      ],
      "text/plain": [
       "                              GOOGL      TXRH\n",
       "Date                                         \n",
       "2023-03-16 00:00:00-04:00  1.361026  1.498728\n",
       "2023-03-17 00:00:00-04:00  1.391622  1.436271\n",
       "2023-03-20 00:00:00-04:00  1.382208  1.458247\n",
       "2023-03-21 00:00:00-04:00  1.469287  1.461254\n",
       "2023-03-22 00:00:00-04:00  1.432808  1.458015"
      ]
     },
     "execution_count": 46,
     "metadata": {},
     "output_type": "execute_result"
    }
   ],
   "source": [
    "# calculando retorno acumulado\n",
    "cumulative_returns = (1+returns).cumprod()-1\n",
    "cumulative_returns.tail()"
   ]
  },
  {
   "cell_type": "markdown",
   "id": "46ec0854-9b67-495f-9913-25714f082599",
   "metadata": {},
   "source": [
    "Durante los últimos 6 años, un restaurante especializado en carne asada, con un market cap al 22/3/23 de $7,121 millones, generó un rendimiento levemente superior que Alphabet, un gigante técnológico valorado por sobre el trillón de dólares."
   ]
  },
  {
   "cell_type": "code",
   "execution_count": 48,
   "id": "578604d9-29c2-45fd-830e-a0c28c318de1",
   "metadata": {},
   "outputs": [
    {
     "data": {
      "image/png": "[encoded data removed]",
      "text/plain": [
       "<Figure size 864x432 with 1 Axes>"
      ]
     },
     "metadata": {
      "needs_background": "light"
     },
     "output_type": "display_data"
    }
   ],
   "source": [
    "# a graficar la data\n",
    "import matplotlib.pyplot as plt\n",
    "%matplotlib inline\n",
    "\n",
    "googl = cumulative_returns['GOOGL']\n",
    "txrh = cumulative_returns['TXRH']\n",
    "\n",
    "plt.figure(figsize=(12, 6)) # tamaño del gráfico\n",
    "plt.plot(googl, label='GOOGL')\n",
    "plt.plot(txrh, label='TXRH')\n",
    "\n",
    "plt.title('GOOGL v/s TXRH', fontsize=15) # título\n",
    "plt.ylabel('Cumulative Return', fontsize=12) # etiqueta eje y\n",
    "plt.xlabel('Years', fontsize=12) # etiqueta eje x\n",
    "plt.legend(loc=2, fontsize=12) \n",
    "plt.grid() # cuadrículas\n",
    "plt.show()"
   ]
  },
  {
   "cell_type": "code",
   "execution_count": null,
   "id": "a9693bf0-2bdd-4dc1-aed6-c854390815da",
   "metadata": {},
   "outputs": [],
   "source": []
  }
 ],
 "metadata": {
  "kernelspec": {
   "display_name": "Python 3 (ipykernel)",
   "language": "python",
   "name": "python3"
  },
  "language_info": {
   "codemirror_mode": {
    "name": "ipython",
    "version": 3
   },
   "file_extension": ".py",
   "mimetype": "text/x-python",
   "name": "python",
   "nbconvert_exporter": "python",
   "pygments_lexer": "ipython3",
   "version": "3.9.12"
  }
 },
 "nbformat": 4,
 "nbformat_minor": 5
}
