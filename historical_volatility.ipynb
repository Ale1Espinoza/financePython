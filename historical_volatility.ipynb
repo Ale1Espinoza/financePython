{
 "cells": [
  {
   "cell_type": "markdown",
   "id": "6f974c8a-d701-43ce-9ff5-c6bf24f91934",
   "metadata": {},
   "source": [
    "## Historical Volatility\n",
    "La volatilidad es sinónimo de desviación estándar anualizada de la disperción de los precios. Ojo, la volatilidad solo mide variación pero no dirección.\n",
    "A continuación se analizará la intensidad de los cambios en el precio de cierre durante los útltimos 10 años del SPY."
   ]
  },
  {
   "cell_type": "code",
   "execution_count": 1,
   "id": "58c489c6-42dc-43b7-9610-51b1f820ac1d",
   "metadata": {},
   "outputs": [],
   "source": [
    "# paquetes indispensables\n",
    "import pandas as pd\n",
    "from pandas_datareader import data as pdr\n",
    "import yfinance as yf\n",
    "yf.pdr_override()\n",
    "import matplotlib.pyplot as plt\n",
    "%matplotlib inline"
   ]
  },
  {
   "cell_type": "code",
   "execution_count": 2,
   "id": "1167bcd1-cf47-4054-a7f7-3712db514347",
   "metadata": {},
   "outputs": [
    {
     "name": "stdout",
     "output_type": "stream",
     "text": [
      "[*********************100%***********************]  1 of 1 completed\n"
     ]
    },
    {
     "data": {
      "text/plain": [
       "Date\n",
       "2013-03-26 00:00:00-04:00    0.008003\n",
       "2013-03-27 00:00:00-04:00    0.000000\n",
       "2013-03-28 00:00:00-04:00    0.003073\n",
       "2013-04-01 00:00:00-04:00   -0.003957\n",
       "2013-04-02 00:00:00-04:00    0.004934\n",
       "                               ...   \n",
       "2023-03-17 00:00:00-04:00   -0.015450\n",
       "2023-03-20 00:00:00-04:00    0.009616\n",
       "2023-03-21 00:00:00-04:00    0.013131\n",
       "2023-03-22 00:00:00-04:00   -0.017046\n",
       "2023-03-23 00:00:00-04:00    0.002703\n",
       "Name: Close, Length: 2517, dtype: float64"
      ]
     },
     "execution_count": 2,
     "metadata": {},
     "output_type": "execute_result"
    }
   ],
   "source": [
    "# obteniendo la data del SPY\n",
    "data = pdr.get_data_yahoo('SPY', period='10y')\n",
    "\n",
    "# obteniendo los retornos o cambios porcentuales diarios\n",
    "returns = (data['Close'].pct_change()).dropna()\n",
    "returns "
   ]
  },
  {
   "cell_type": "code",
   "execution_count": 3,
   "id": "1c9a57b2-ddfd-4751-a28f-4e4554e8826c",
   "metadata": {},
   "outputs": [
    {
     "data": {
      "text/plain": [
       "count    2517.000000\n",
       "mean        0.000432\n",
       "std         0.011070\n",
       "min        -0.109424\n",
       "50%         0.000580\n",
       "75%         0.005583\n",
       "90%         0.011617\n",
       "max         0.090603\n",
       "Name: Close, dtype: float64"
      ]
     },
     "execution_count": 3,
     "metadata": {},
     "output_type": "execute_result"
    }
   ],
   "source": [
    "# vista rápida de la estadística principal de los retornos diarios\n",
    "returns.describe(percentiles = [0.75, 0.90])"
   ]
  },
  {
   "cell_type": "markdown",
   "id": "9b12ec7a-34d1-4ca9-9040-a69b98f33830",
   "metadata": {},
   "source": [
    "Considerando los 10 años de data, el promedio de la variación diaria es de 0.0509%, la desviación estándar en este caso es de 1.1%. ¿Que quiere decir esto? que en el 68% de los casos (primera desviación estándar) el retorno diario puede fluctuar de la media un 1.1% hacia arriba o hacia abajo."
   ]
  },
  {
   "cell_type": "code",
   "execution_count": 4,
   "id": "ee918037-6994-44ea-930b-bb45d34de470",
   "metadata": {},
   "outputs": [
    {
     "ename": "NameError",
     "evalue": "name 'np' is not defined",
     "output_type": "error",
     "traceback": [
      "\u001b[1;31m---------------------------------------------------------------------------\u001b[0m",
      "\u001b[1;31mNameError\u001b[0m                                 Traceback (most recent call last)",
      "Input \u001b[1;32mIn [4]\u001b[0m, in \u001b[0;36m<cell line: 3>\u001b[1;34m()\u001b[0m\n\u001b[0;32m      1\u001b[0m \u001b[38;5;66;03m# la volatilidad corresponde a la desviación estándar anualizada, cada año cuenta con 252 trading days\u001b[39;00m\n\u001b[0;32m      2\u001b[0m daily_std \u001b[38;5;241m=\u001b[39m returns\u001b[38;5;241m.\u001b[39mstd()\n\u001b[1;32m----> 3\u001b[0m annualized_std \u001b[38;5;241m=\u001b[39m  daily_std\u001b[38;5;241m*\u001b[39m\u001b[43mnp\u001b[49m\u001b[38;5;241m.\u001b[39msqrt(\u001b[38;5;241m252\u001b[39m)\n\u001b[0;32m      4\u001b[0m annualized_std\n",
      "\u001b[1;31mNameError\u001b[0m: name 'np' is not defined"
     ]
    }
   ],
   "source": [
    "# la volatilidad corresponde a la desviación estándar anualizada, cada año cuenta con 252 trading days\n",
    "daily_std = returns.std()\n",
    "annualized_std =  daily_std*np.sqrt(252)\n",
    "annualized_std"
   ]
  },
  {
   "cell_type": "markdown",
   "id": "e6ed91e1-d4ae-48e3-8f15-6dade94c71e7",
   "metadata": {},
   "source": [
    "#### Rolling Volatility"
   ]
  },
  {
   "cell_type": "code",
   "execution_count": null,
   "id": "da149bc3-7b3a-45d7-8bfb-64954c3e17e2",
   "metadata": {},
   "outputs": [],
   "source": [
    "# sabiendo que la volatilidad no es estátita y que va cambiando en cada sesión de trading\n",
    "volatility = returns.rolling(window=20).std()*np.sqrt(252)\n",
    "volatility.tail()"
   ]
  },
  {
   "cell_type": "code",
   "execution_count": null,
   "id": "075b3540-6906-4c0e-b990-b7a627a009f9",
   "metadata": {},
   "outputs": [],
   "source": [
    "# plot\n",
    "plt.figure(figsize=(12, 6)) # tamaño del gráfico\n",
    "plt.plot(volatility)\n",
    "plt.title('Historical Volatility SPY', fontsize=15) # título\n",
    "plt.ylabel('Volatility', fontsize=12) # etiqueta eje y\n",
    "plt.xlabel('Years', fontsize=12) # etiqueta eje x\n",
    "plt.grid() # cuadrículas\n",
    "plt.show()"
   ]
  }
 ],
 "metadata": {
  "kernelspec": {
   "display_name": "Python 3 (ipykernel)",
   "language": "python",
   "name": "python3"
  },
  "language_info": {
   "codemirror_mode": {
    "name": "ipython",
    "version": 3
   },
   "file_extension": ".py",
   "mimetype": "text/x-python",
   "name": "python",
   "nbconvert_exporter": "python",
   "pygments_lexer": "ipython3",
   "version": "3.9.12"
  }
 },
 "nbformat": 4,
 "nbformat_minor": 5
}
